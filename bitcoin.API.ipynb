{
 "cells": [
  {
   "cell_type": "markdown",
   "id": "24187df0",
   "metadata": {},
   "source": [
    "\n",
    "# Bitcoin News Sentiment Analysis API Demo\n",
    "\n",
    "This notebook demonstrates how to use the Bitcoin News Sentiment Analysis API to fetch news articles, analyze their sentiment, and store the results.\n"
   ]
  },
  {
   "cell_type": "markdown",
   "id": "f6af6ab3",
   "metadata": {},
   "source": [
    "\n",
    "## 1. Setup Environment\n",
    "\n",
    "First, let's load environment variables and import the required modules.\n"
   ]
  },
  {
   "cell_type": "code",
   "execution_count": 1,
   "id": "636c5ec6",
   "metadata": {},
   "outputs": [
    {
     "name": "stdout",
     "output_type": "stream",
     "text": [
      "Environment loaded successfully\n"
     ]
    }
   ],
   "source": [
    "\n",
    "# Import necessary libraries\n",
    "import pandas as pd\n",
    "from dotenv import load_dotenv\n",
    "import os\n",
    "from pathlib import Path\n",
    "\n",
    "# Import our utility functions\n",
    "from bitcoin_utils import (\n",
    "    Config, fetch_bitcoin_news, classify_sentiment,\n",
    "    process_news_articles, make_clickable, create_sentiment_pie_chart\n",
    ")\n",
    "\n",
    "# Load environment variables from .env file\n",
    "load_dotenv()\n",
    "\n",
    "# Check that we have the required API key\n",
    "if not os.getenv(\"NEWS_API_KEY\"):\n",
    "    raise ValueError(\"NEWS_API_KEY not found in .env file\")\n",
    "    \n",
    "print(\"Environment loaded successfully\")\n"
   ]
  },
  {
   "cell_type": "markdown",
   "id": "945e8148",
   "metadata": {},
   "source": [
    "\n",
    "## 2. Initialize Configuration\n",
    "\n",
    "Create a configuration object that will hold all our settings and API keys.\n"
   ]
  },
  {
   "cell_type": "code",
   "execution_count": 2,
   "id": "8f7235a7",
   "metadata": {},
   "outputs": [
    {
     "name": "stdout",
     "output_type": "stream",
     "text": [
      "Using LLM provider: together_ai\n",
      "Data directory: /Users/sandeep/Desktop/Project25/Data605/data\n"
     ]
    }
   ],
   "source": [
    "\n",
    "# Initialize the configuration\n",
    "config = Config.load()\n",
    "\n",
    "# Create data directory if it doesn't exist\n",
    "config.DATA_DIR.mkdir(exist_ok=True)\n",
    "\n",
    "print(f\"Using LLM provider: {config.PROVIDER}\")\n",
    "print(f\"Data directory: {config.DATA_DIR}\")\n"
   ]
  },
  {
   "cell_type": "markdown",
   "id": "bf4f0311",
   "metadata": {},
   "source": [
    "\n",
    "## 3. Fetch Bitcoin News\n",
    "\n",
    "Now let's fetch some recent Bitcoin news articles.\n"
   ]
  },
  {
   "cell_type": "code",
   "execution_count": 3,
   "id": "6c801134",
   "metadata": {},
   "outputs": [
    {
     "name": "stdout",
     "output_type": "stream",
     "text": [
      "Fetching Bitcoin news from 2025-05-13 to 2025-05-16...\n"
     ]
    },
    {
     "data": {
      "text/html": [
       "<div>\n",
       "<style scoped>\n",
       "    .dataframe tbody tr th:only-of-type {\n",
       "        vertical-align: middle;\n",
       "    }\n",
       "\n",
       "    .dataframe tbody tr th {\n",
       "        vertical-align: top;\n",
       "    }\n",
       "\n",
       "    .dataframe thead th {\n",
       "        text-align: right;\n",
       "    }\n",
       "</style>\n",
       "<table border=\"1\" class=\"dataframe\">\n",
       "  <thead>\n",
       "    <tr style=\"text-align: right;\">\n",
       "      <th></th>\n",
       "      <th>title</th>\n",
       "      <th>publishedAt</th>\n",
       "      <th>source</th>\n",
       "      <th>url</th>\n",
       "    </tr>\n",
       "  </thead>\n",
       "  <tbody>\n",
       "    <tr>\n",
       "      <th>0</th>\n",
       "      <td>Bitcoin Repeats April Playbook – Watch This Ra...</td>\n",
       "      <td>2025-05-16T23:30:55Z</td>\n",
       "      <td>Bitcoinist</td>\n",
       "      <td>https://bitcoinist.com/bitcoin-repeats-april-p...</td>\n",
       "    </tr>\n",
       "    <tr>\n",
       "      <th>1</th>\n",
       "      <td>Wisconsin Pension Fund Sold IBIT Before Trade ...</td>\n",
       "      <td>2025-05-16T23:30:00Z</td>\n",
       "      <td>Etf.com</td>\n",
       "      <td>http://www.etf.com/sections/news/wisconsin-pen...</td>\n",
       "    </tr>\n",
       "    <tr>\n",
       "      <th>2</th>\n",
       "      <td>Moody’s historic downgrade of US credit system...</td>\n",
       "      <td>2025-05-16T23:21:36Z</td>\n",
       "      <td>CryptoSlate</td>\n",
       "      <td>https://cryptoslate.com/moodys-historic-downgr...</td>\n",
       "    </tr>\n",
       "    <tr>\n",
       "      <th>3</th>\n",
       "      <td>How Silicon Valley's influence in Washington b...</td>\n",
       "      <td>2025-05-16T22:15:09Z</td>\n",
       "      <td>TechCrunch</td>\n",
       "      <td>https://techcrunch.com/2025/05/16/how-silicon-...</td>\n",
       "    </tr>\n",
       "    <tr>\n",
       "      <th>4</th>\n",
       "      <td>Crypto Bulls Just Got Their Macro Wake-Up Call...</td>\n",
       "      <td>2025-05-16T22:00:53Z</td>\n",
       "      <td>newsBTC</td>\n",
       "      <td>http://www.newsbtc.com/news/crypto-bulls-just-...</td>\n",
       "    </tr>\n",
       "  </tbody>\n",
       "</table>\n",
       "</div>"
      ],
      "text/plain": [
       "                                               title           publishedAt  \\\n",
       "0  Bitcoin Repeats April Playbook – Watch This Ra...  2025-05-16T23:30:55Z   \n",
       "1  Wisconsin Pension Fund Sold IBIT Before Trade ...  2025-05-16T23:30:00Z   \n",
       "2  Moody’s historic downgrade of US credit system...  2025-05-16T23:21:36Z   \n",
       "3  How Silicon Valley's influence in Washington b...  2025-05-16T22:15:09Z   \n",
       "4  Crypto Bulls Just Got Their Macro Wake-Up Call...  2025-05-16T22:00:53Z   \n",
       "\n",
       "        source                                                url  \n",
       "0   Bitcoinist  https://bitcoinist.com/bitcoin-repeats-april-p...  \n",
       "1      Etf.com  http://www.etf.com/sections/news/wisconsin-pen...  \n",
       "2  CryptoSlate  https://cryptoslate.com/moodys-historic-downgr...  \n",
       "3   TechCrunch  https://techcrunch.com/2025/05/16/how-silicon-...  \n",
       "4      newsBTC  http://www.newsbtc.com/news/crypto-bulls-just-...  "
      ]
     },
     "execution_count": 3,
     "metadata": {},
     "output_type": "execute_result"
    }
   ],
   "source": [
    "\n",
    "# Fetch latest Bitcoin news (last 3 days, 5 articles)\n",
    "articles = fetch_bitcoin_news(config, page_size=5, days_back=3)\n",
    "\n",
    "# Convert to DataFrame for easier viewing\n",
    "df_articles = pd.DataFrame([\n",
    "    {\n",
    "        'title': article.get('title'),\n",
    "        'publishedAt': article.get('publishedAt'),\n",
    "        'source': article.get('source', {}).get('name'),\n",
    "        'url': article.get('url')\n",
    "    } for article in articles\n",
    "])\n",
    "\n",
    "# Display the articles\n",
    "df_articles.head()\n"
   ]
  },
  {
   "cell_type": "markdown",
   "id": "be3cd98b",
   "metadata": {},
   "source": [
    "\n",
    "## 4. Analyze Sentiment on Individual Headlines\n",
    "\n",
    "Let's analyze the sentiment of a few headlines to demonstrate the API.\n"
   ]
  },
  {
   "cell_type": "code",
   "execution_count": 4,
   "id": "ae4067db",
   "metadata": {},
   "outputs": [
    {
     "name": "stdout",
     "output_type": "stream",
     "text": [
      "[Pos] Bitcoin Repeats April Playbook – Watch This Range for Confirmation\n",
      "[Ne] Wisconsin Pension Fund Sold IBIT Before Trade Clash\n",
      "[Ne] Moody’s historic downgrade of US credit system could add fuel to Bitcoin safe-haven status\n"
     ]
    },
    {
     "data": {
      "text/html": [
       "<div>\n",
       "<style scoped>\n",
       "    .dataframe tbody tr th:only-of-type {\n",
       "        vertical-align: middle;\n",
       "    }\n",
       "\n",
       "    .dataframe tbody tr th {\n",
       "        vertical-align: top;\n",
       "    }\n",
       "\n",
       "    .dataframe thead th {\n",
       "        text-align: right;\n",
       "    }\n",
       "</style>\n",
       "<table border=\"1\" class=\"dataframe\">\n",
       "  <thead>\n",
       "    <tr style=\"text-align: right;\">\n",
       "      <th></th>\n",
       "      <th>headline</th>\n",
       "      <th>content_preview</th>\n",
       "      <th>sentiment</th>\n",
       "      <th>score</th>\n",
       "    </tr>\n",
       "  </thead>\n",
       "  <tbody>\n",
       "    <tr>\n",
       "      <th>0</th>\n",
       "      <td>Bitcoin Repeats April Playbook – Watch This Ra...</td>\n",
       "      <td>Bitcoin is trading just 5% below its all-time ...</td>\n",
       "      <td>Pos</td>\n",
       "      <td>0</td>\n",
       "    </tr>\n",
       "    <tr>\n",
       "      <th>1</th>\n",
       "      <td>Wisconsin Pension Fund Sold IBIT Before Trade ...</td>\n",
       "      <td>- The Wisconsin pension fund divested its enti...</td>\n",
       "      <td>Ne</td>\n",
       "      <td>0</td>\n",
       "    </tr>\n",
       "    <tr>\n",
       "      <th>2</th>\n",
       "      <td>Moody’s historic downgrade of US credit system...</td>\n",
       "      <td>Moody’s downgraded the United States’ long-ter...</td>\n",
       "      <td>Ne</td>\n",
       "      <td>0</td>\n",
       "    </tr>\n",
       "  </tbody>\n",
       "</table>\n",
       "</div>"
      ],
      "text/plain": [
       "                                            headline  \\\n",
       "0  Bitcoin Repeats April Playbook – Watch This Ra...   \n",
       "1  Wisconsin Pension Fund Sold IBIT Before Trade ...   \n",
       "2  Moody’s historic downgrade of US credit system...   \n",
       "\n",
       "                                     content_preview sentiment  score  \n",
       "0  Bitcoin is trading just 5% below its all-time ...       Pos      0  \n",
       "1  - The Wisconsin pension fund divested its enti...        Ne      0  \n",
       "2  Moody’s downgraded the United States’ long-ter...        Ne      0  "
      ]
     },
     "execution_count": 4,
     "metadata": {},
     "output_type": "execute_result"
    }
   ],
   "source": [
    "\n",
    "# Take the first 3 articles for demonstration\n",
    "demo_articles = articles[:3]\n",
    "\n",
    "# Analyze sentiment for each article\n",
    "results = []\n",
    "for article in demo_articles:\n",
    "    title = article.get('title')\n",
    "    content = article.get('description') or article.get('content', '')\n",
    "    \n",
    "    # Skip if no content\n",
    "    if not content:\n",
    "        print(f\"No content for: {title}\")\n",
    "        continue\n",
    "    \n",
    "    # Analyze sentiment\n",
    "    sentiment, cost = classify_sentiment(content, config)\n",
    "    \n",
    "    # Store result\n",
    "    results.append({\n",
    "        'headline': title,\n",
    "        'content_preview': content[:100] + '...',\n",
    "        'sentiment': sentiment,\n",
    "        'score': 1 if sentiment.lower() == 'positive' else (-1 if sentiment.lower() == 'negative' else 0)\n",
    "    })\n",
    "    print(f\"[{sentiment}] {title}\")\n",
    "\n",
    "# Display results\n",
    "pd.DataFrame(results)\n"
   ]
  },
  {
   "cell_type": "markdown",
   "id": "75c3d3d7",
   "metadata": {},
   "source": [
    "\n",
    "## 5. Process All Articles and Save to CSV\n",
    "\n",
    "Now let's process all articles in a batch and save the results to a CSV file.\n"
   ]
  },
  {
   "cell_type": "code",
   "execution_count": 5,
   "id": "2d68ef6d",
   "metadata": {},
   "outputs": [
    {
     "name": "stdout",
     "output_type": "stream",
     "text": [
      "Fetching Bitcoin news from 2025-05-13 to 2025-05-16...\n",
      "Fetched 10 articles\n",
      "[CACHED] [Pos] Bitcoin Repeats April Playbook – Watch This Range for Confirmation...\n",
      "[CACHED] [Ne] Wisconsin Pension Fund Sold IBIT Before Trade Clash...\n",
      "[CACHED] [Ne] Moody’s historic downgrade of US credit system could add fuel to Bitcoin safe-ha...\n",
      "[CACHED] [Ne] How Silicon Valley's influence in Washington benefits the tech elite | TechCrunc...\n",
      "[CACHED] [Ne] Crypto Bulls Just Got Their Macro Wake-Up Call: Here’s Why...\n",
      "[CACHED] [Neg] Bitcoin Double-Top Pattern Says Bull Market Is Over, Is A Crash Coming?...\n",
      "[CACHED] [Ne] SEC bitcoin hack case gets Alabama man sentenced to 14 months in prison...\n",
      "[CACHED] [Ne] Alabama man sentenced to 14 months in prison for role in SEC bitcoin announcemen...\n",
      "[CACHED] [Pos] Basel Medical Group to add $1B in Bitcoin to treasury amid falling share prices...\n",
      "[CACHED] [Pos] Coinbase Stock Is Ripping Despite Hack Fears—Here's Why...\n",
      "Articles processed: 10 (New: 0, Cached: 10)\n",
      "Total cost: $0.000000\n",
      "\n",
      "Processed 10 articles\n",
      "\n",
      "Sentiment distribution:\n",
      "sentiment\n",
      "Ne     6\n",
      "Pos    3\n",
      "Neg    1\n",
      "Name: count, dtype: int64\n",
      "\n",
      "Results saved to /Users/sandeep/Desktop/Project25/Data605/data/bitcoin_demo_results.csv\n"
     ]
    },
    {
     "data": {
      "text/html": [
       "<div>\n",
       "<style scoped>\n",
       "    .dataframe tbody tr th:only-of-type {\n",
       "        vertical-align: middle;\n",
       "    }\n",
       "\n",
       "    .dataframe tbody tr th {\n",
       "        vertical-align: top;\n",
       "    }\n",
       "\n",
       "    .dataframe thead th {\n",
       "        text-align: right;\n",
       "    }\n",
       "</style>\n",
       "<table border=\"1\" class=\"dataframe\">\n",
       "  <thead>\n",
       "    <tr style=\"text-align: right;\">\n",
       "      <th></th>\n",
       "      <th>publishedAt</th>\n",
       "      <th>headline</th>\n",
       "      <th>sentiment</th>\n",
       "      <th>score</th>\n",
       "      <th>url</th>\n",
       "      <th>cost</th>\n",
       "      <th>cached</th>\n",
       "    </tr>\n",
       "  </thead>\n",
       "  <tbody>\n",
       "    <tr>\n",
       "      <th>0</th>\n",
       "      <td>2025-05-16 23:30:55+00:00</td>\n",
       "      <td>Bitcoin Repeats April Playbook – Watch This Ra...</td>\n",
       "      <td>Pos</td>\n",
       "      <td>0</td>\n",
       "      <td>https://bitcoinist.com/bitcoin-repeats-april-p...</td>\n",
       "      <td>0.0</td>\n",
       "      <td>True</td>\n",
       "    </tr>\n",
       "    <tr>\n",
       "      <th>1</th>\n",
       "      <td>2025-05-16 23:30:00+00:00</td>\n",
       "      <td>Wisconsin Pension Fund Sold IBIT Before Trade ...</td>\n",
       "      <td>Ne</td>\n",
       "      <td>0</td>\n",
       "      <td>http://www.etf.com/sections/news/wisconsin-pen...</td>\n",
       "      <td>0.0</td>\n",
       "      <td>True</td>\n",
       "    </tr>\n",
       "    <tr>\n",
       "      <th>2</th>\n",
       "      <td>2025-05-16 23:21:36+00:00</td>\n",
       "      <td>Moody’s historic downgrade of US credit system...</td>\n",
       "      <td>Ne</td>\n",
       "      <td>0</td>\n",
       "      <td>https://cryptoslate.com/moodys-historic-downgr...</td>\n",
       "      <td>0.0</td>\n",
       "      <td>True</td>\n",
       "    </tr>\n",
       "    <tr>\n",
       "      <th>3</th>\n",
       "      <td>2025-05-16 22:15:09+00:00</td>\n",
       "      <td>How Silicon Valley's influence in Washington b...</td>\n",
       "      <td>Ne</td>\n",
       "      <td>0</td>\n",
       "      <td>https://techcrunch.com/2025/05/16/how-silicon-...</td>\n",
       "      <td>0.0</td>\n",
       "      <td>True</td>\n",
       "    </tr>\n",
       "    <tr>\n",
       "      <th>4</th>\n",
       "      <td>2025-05-16 22:00:53+00:00</td>\n",
       "      <td>Crypto Bulls Just Got Their Macro Wake-Up Call...</td>\n",
       "      <td>Ne</td>\n",
       "      <td>0</td>\n",
       "      <td>http://www.newsbtc.com/news/crypto-bulls-just-...</td>\n",
       "      <td>0.0</td>\n",
       "      <td>True</td>\n",
       "    </tr>\n",
       "  </tbody>\n",
       "</table>\n",
       "</div>"
      ],
      "text/plain": [
       "                publishedAt  \\\n",
       "0 2025-05-16 23:30:55+00:00   \n",
       "1 2025-05-16 23:30:00+00:00   \n",
       "2 2025-05-16 23:21:36+00:00   \n",
       "3 2025-05-16 22:15:09+00:00   \n",
       "4 2025-05-16 22:00:53+00:00   \n",
       "\n",
       "                                            headline sentiment  score  \\\n",
       "0  Bitcoin Repeats April Playbook – Watch This Ra...       Pos      0   \n",
       "1  Wisconsin Pension Fund Sold IBIT Before Trade ...        Ne      0   \n",
       "2  Moody’s historic downgrade of US credit system...        Ne      0   \n",
       "3  How Silicon Valley's influence in Washington b...        Ne      0   \n",
       "4  Crypto Bulls Just Got Their Macro Wake-Up Call...        Ne      0   \n",
       "\n",
       "                                                 url  cost  cached  \n",
       "0  https://bitcoinist.com/bitcoin-repeats-april-p...   0.0    True  \n",
       "1  http://www.etf.com/sections/news/wisconsin-pen...   0.0    True  \n",
       "2  https://cryptoslate.com/moodys-historic-downgr...   0.0    True  \n",
       "3  https://techcrunch.com/2025/05/16/how-silicon-...   0.0    True  \n",
       "4  http://www.newsbtc.com/news/crypto-bulls-just-...   0.0    True  "
      ]
     },
     "execution_count": 5,
     "metadata": {},
     "output_type": "execute_result"
    }
   ],
   "source": [
    "\n",
    "# Process all articles\n",
    "df_processed = process_news_articles(config, page_size=10, days_back=3)\n",
    "\n",
    "# Display summary\n",
    "print(f\"\\nProcessed {len(df_processed)} articles\")\n",
    "print(\"\\nSentiment distribution:\")\n",
    "print(df_processed['sentiment'].value_counts())\n",
    "\n",
    "# Save to CSV\n",
    "output_file = config.DATA_DIR / \"bitcoin_demo_results.csv\"\n",
    "df_processed.to_csv(output_file, index=False)\n",
    "print(f\"\\nResults saved to {output_file}\")\n",
    "\n",
    "# Show the results\n",
    "df_processed.head()\n"
   ]
  },
  {
   "cell_type": "markdown",
   "id": "7b051991",
   "metadata": {},
   "source": [
    "\n",
    "## 6. Read Results from CSV\n",
    "\n",
    "Let's read back the results from the CSV file to demonstrate persistence.\n"
   ]
  },
  {
   "cell_type": "code",
   "execution_count": 6,
   "id": "65868e26",
   "metadata": {},
   "outputs": [
    {
     "name": "stdout",
     "output_type": "stream",
     "text": [
      "Read 10 articles from CSV\n"
     ]
    },
    {
     "data": {
      "text/html": [
       "<div>\n",
       "<style scoped>\n",
       "    .dataframe tbody tr th:only-of-type {\n",
       "        vertical-align: middle;\n",
       "    }\n",
       "\n",
       "    .dataframe tbody tr th {\n",
       "        vertical-align: top;\n",
       "    }\n",
       "\n",
       "    .dataframe thead th {\n",
       "        text-align: right;\n",
       "    }\n",
       "</style>\n",
       "<table border=\"1\" class=\"dataframe\">\n",
       "  <thead>\n",
       "    <tr style=\"text-align: right;\">\n",
       "      <th></th>\n",
       "      <th>publishedAt</th>\n",
       "      <th>headline</th>\n",
       "      <th>sentiment</th>\n",
       "      <th>score</th>\n",
       "      <th>url</th>\n",
       "      <th>cost</th>\n",
       "      <th>cached</th>\n",
       "    </tr>\n",
       "  </thead>\n",
       "  <tbody>\n",
       "    <tr>\n",
       "      <th>0</th>\n",
       "      <td>2025-05-16 23:30:55+00:00</td>\n",
       "      <td>Bitcoin Repeats April Playbook – Watch This Ra...</td>\n",
       "      <td>Pos</td>\n",
       "      <td>0</td>\n",
       "      <td>https://bitcoinist.com/bitcoin-repeats-april-p...</td>\n",
       "      <td>0.0</td>\n",
       "      <td>True</td>\n",
       "    </tr>\n",
       "    <tr>\n",
       "      <th>1</th>\n",
       "      <td>2025-05-16 23:30:00+00:00</td>\n",
       "      <td>Wisconsin Pension Fund Sold IBIT Before Trade ...</td>\n",
       "      <td>Ne</td>\n",
       "      <td>0</td>\n",
       "      <td>http://www.etf.com/sections/news/wisconsin-pen...</td>\n",
       "      <td>0.0</td>\n",
       "      <td>True</td>\n",
       "    </tr>\n",
       "    <tr>\n",
       "      <th>2</th>\n",
       "      <td>2025-05-16 23:21:36+00:00</td>\n",
       "      <td>Moody’s historic downgrade of US credit system...</td>\n",
       "      <td>Ne</td>\n",
       "      <td>0</td>\n",
       "      <td>https://cryptoslate.com/moodys-historic-downgr...</td>\n",
       "      <td>0.0</td>\n",
       "      <td>True</td>\n",
       "    </tr>\n",
       "    <tr>\n",
       "      <th>3</th>\n",
       "      <td>2025-05-16 22:15:09+00:00</td>\n",
       "      <td>How Silicon Valley's influence in Washington b...</td>\n",
       "      <td>Ne</td>\n",
       "      <td>0</td>\n",
       "      <td>https://techcrunch.com/2025/05/16/how-silicon-...</td>\n",
       "      <td>0.0</td>\n",
       "      <td>True</td>\n",
       "    </tr>\n",
       "    <tr>\n",
       "      <th>4</th>\n",
       "      <td>2025-05-16 22:00:53+00:00</td>\n",
       "      <td>Crypto Bulls Just Got Their Macro Wake-Up Call...</td>\n",
       "      <td>Ne</td>\n",
       "      <td>0</td>\n",
       "      <td>http://www.newsbtc.com/news/crypto-bulls-just-...</td>\n",
       "      <td>0.0</td>\n",
       "      <td>True</td>\n",
       "    </tr>\n",
       "  </tbody>\n",
       "</table>\n",
       "</div>"
      ],
      "text/plain": [
       "                publishedAt  \\\n",
       "0 2025-05-16 23:30:55+00:00   \n",
       "1 2025-05-16 23:30:00+00:00   \n",
       "2 2025-05-16 23:21:36+00:00   \n",
       "3 2025-05-16 22:15:09+00:00   \n",
       "4 2025-05-16 22:00:53+00:00   \n",
       "\n",
       "                                            headline sentiment  score  \\\n",
       "0  Bitcoin Repeats April Playbook – Watch This Ra...       Pos      0   \n",
       "1  Wisconsin Pension Fund Sold IBIT Before Trade ...        Ne      0   \n",
       "2  Moody’s historic downgrade of US credit system...        Ne      0   \n",
       "3  How Silicon Valley's influence in Washington b...        Ne      0   \n",
       "4  Crypto Bulls Just Got Their Macro Wake-Up Call...        Ne      0   \n",
       "\n",
       "                                                 url  cost  cached  \n",
       "0  https://bitcoinist.com/bitcoin-repeats-april-p...   0.0    True  \n",
       "1  http://www.etf.com/sections/news/wisconsin-pen...   0.0    True  \n",
       "2  https://cryptoslate.com/moodys-historic-downgr...   0.0    True  \n",
       "3  https://techcrunch.com/2025/05/16/how-silicon-...   0.0    True  \n",
       "4  http://www.newsbtc.com/news/crypto-bulls-just-...   0.0    True  "
      ]
     },
     "execution_count": 6,
     "metadata": {},
     "output_type": "execute_result"
    }
   ],
   "source": [
    "\n",
    "# Read from CSV\n",
    "df_from_csv = pd.read_csv(output_file)\n",
    "\n",
    "# Convert date column back to datetime\n",
    "df_from_csv['publishedAt'] = pd.to_datetime(df_from_csv['publishedAt'])\n",
    "\n",
    "print(f\"Read {len(df_from_csv)} articles from CSV\")\n",
    "df_from_csv.head()\n"
   ]
  },
  {
   "cell_type": "markdown",
   "id": "634a5320",
   "metadata": {},
   "source": [
    "\n",
    "## 7. Visualize Sentiment Distribution\n",
    "\n",
    "Finally, let's visualize the sentiment distribution using the helper function.\n"
   ]
  },
  {
   "cell_type": "code",
   "execution_count": 7,
   "id": "c2b19aec",
   "metadata": {},
   "outputs": [
    {
     "data": {
      "application/vnd.plotly.v1+json": {
       "config": {
        "plotlyServerURL": "https://plot.ly"
       },
       "data": [
        {
         "customdata": [
          [
           "Ne"
          ],
          [
           "Pos"
          ],
          [
           "Neg"
          ]
         ],
         "domain": {
          "x": [
           0,
           1
          ],
          "y": [
           0,
           1
          ]
         },
         "hovertemplate": "label=%{label}<br>value=%{value}<br>color=%{customdata[0]}<extra></extra>",
         "labels": [
          "Ne",
          "Pos",
          "Neg"
         ],
         "legendgroup": "",
         "marker": {
          "colors": [
           "#ab63fa",
           "#FFA15A",
           "#19d3f3"
          ]
         },
         "name": "",
         "showlegend": true,
         "type": "pie",
         "values": {
          "bdata": "BgMB",
          "dtype": "i1"
         }
        }
       ],
       "layout": {
        "legend": {
         "tracegroupgap": 0
        },
        "template": {
         "data": {
          "bar": [
           {
            "error_x": {
             "color": "#2a3f5f"
            },
            "error_y": {
             "color": "#2a3f5f"
            },
            "marker": {
             "line": {
              "color": "#E5ECF6",
              "width": 0.5
             },
             "pattern": {
              "fillmode": "overlay",
              "size": 10,
              "solidity": 0.2
             }
            },
            "type": "bar"
           }
          ],
          "barpolar": [
           {
            "marker": {
             "line": {
              "color": "#E5ECF6",
              "width": 0.5
             },
             "pattern": {
              "fillmode": "overlay",
              "size": 10,
              "solidity": 0.2
             }
            },
            "type": "barpolar"
           }
          ],
          "carpet": [
           {
            "aaxis": {
             "endlinecolor": "#2a3f5f",
             "gridcolor": "white",
             "linecolor": "white",
             "minorgridcolor": "white",
             "startlinecolor": "#2a3f5f"
            },
            "baxis": {
             "endlinecolor": "#2a3f5f",
             "gridcolor": "white",
             "linecolor": "white",
             "minorgridcolor": "white",
             "startlinecolor": "#2a3f5f"
            },
            "type": "carpet"
           }
          ],
          "choropleth": [
           {
            "colorbar": {
             "outlinewidth": 0,
             "ticks": ""
            },
            "type": "choropleth"
           }
          ],
          "contour": [
           {
            "colorbar": {
             "outlinewidth": 0,
             "ticks": ""
            },
            "colorscale": [
             [
              0,
              "#0d0887"
             ],
             [
              0.1111111111111111,
              "#46039f"
             ],
             [
              0.2222222222222222,
              "#7201a8"
             ],
             [
              0.3333333333333333,
              "#9c179e"
             ],
             [
              0.4444444444444444,
              "#bd3786"
             ],
             [
              0.5555555555555556,
              "#d8576b"
             ],
             [
              0.6666666666666666,
              "#ed7953"
             ],
             [
              0.7777777777777778,
              "#fb9f3a"
             ],
             [
              0.8888888888888888,
              "#fdca26"
             ],
             [
              1,
              "#f0f921"
             ]
            ],
            "type": "contour"
           }
          ],
          "contourcarpet": [
           {
            "colorbar": {
             "outlinewidth": 0,
             "ticks": ""
            },
            "type": "contourcarpet"
           }
          ],
          "heatmap": [
           {
            "colorbar": {
             "outlinewidth": 0,
             "ticks": ""
            },
            "colorscale": [
             [
              0,
              "#0d0887"
             ],
             [
              0.1111111111111111,
              "#46039f"
             ],
             [
              0.2222222222222222,
              "#7201a8"
             ],
             [
              0.3333333333333333,
              "#9c179e"
             ],
             [
              0.4444444444444444,
              "#bd3786"
             ],
             [
              0.5555555555555556,
              "#d8576b"
             ],
             [
              0.6666666666666666,
              "#ed7953"
             ],
             [
              0.7777777777777778,
              "#fb9f3a"
             ],
             [
              0.8888888888888888,
              "#fdca26"
             ],
             [
              1,
              "#f0f921"
             ]
            ],
            "type": "heatmap"
           }
          ],
          "histogram": [
           {
            "marker": {
             "pattern": {
              "fillmode": "overlay",
              "size": 10,
              "solidity": 0.2
             }
            },
            "type": "histogram"
           }
          ],
          "histogram2d": [
           {
            "colorbar": {
             "outlinewidth": 0,
             "ticks": ""
            },
            "colorscale": [
             [
              0,
              "#0d0887"
             ],
             [
              0.1111111111111111,
              "#46039f"
             ],
             [
              0.2222222222222222,
              "#7201a8"
             ],
             [
              0.3333333333333333,
              "#9c179e"
             ],
             [
              0.4444444444444444,
              "#bd3786"
             ],
             [
              0.5555555555555556,
              "#d8576b"
             ],
             [
              0.6666666666666666,
              "#ed7953"
             ],
             [
              0.7777777777777778,
              "#fb9f3a"
             ],
             [
              0.8888888888888888,
              "#fdca26"
             ],
             [
              1,
              "#f0f921"
             ]
            ],
            "type": "histogram2d"
           }
          ],
          "histogram2dcontour": [
           {
            "colorbar": {
             "outlinewidth": 0,
             "ticks": ""
            },
            "colorscale": [
             [
              0,
              "#0d0887"
             ],
             [
              0.1111111111111111,
              "#46039f"
             ],
             [
              0.2222222222222222,
              "#7201a8"
             ],
             [
              0.3333333333333333,
              "#9c179e"
             ],
             [
              0.4444444444444444,
              "#bd3786"
             ],
             [
              0.5555555555555556,
              "#d8576b"
             ],
             [
              0.6666666666666666,
              "#ed7953"
             ],
             [
              0.7777777777777778,
              "#fb9f3a"
             ],
             [
              0.8888888888888888,
              "#fdca26"
             ],
             [
              1,
              "#f0f921"
             ]
            ],
            "type": "histogram2dcontour"
           }
          ],
          "mesh3d": [
           {
            "colorbar": {
             "outlinewidth": 0,
             "ticks": ""
            },
            "type": "mesh3d"
           }
          ],
          "parcoords": [
           {
            "line": {
             "colorbar": {
              "outlinewidth": 0,
              "ticks": ""
             }
            },
            "type": "parcoords"
           }
          ],
          "pie": [
           {
            "automargin": true,
            "type": "pie"
           }
          ],
          "scatter": [
           {
            "fillpattern": {
             "fillmode": "overlay",
             "size": 10,
             "solidity": 0.2
            },
            "type": "scatter"
           }
          ],
          "scatter3d": [
           {
            "line": {
             "colorbar": {
              "outlinewidth": 0,
              "ticks": ""
             }
            },
            "marker": {
             "colorbar": {
              "outlinewidth": 0,
              "ticks": ""
             }
            },
            "type": "scatter3d"
           }
          ],
          "scattercarpet": [
           {
            "marker": {
             "colorbar": {
              "outlinewidth": 0,
              "ticks": ""
             }
            },
            "type": "scattercarpet"
           }
          ],
          "scattergeo": [
           {
            "marker": {
             "colorbar": {
              "outlinewidth": 0,
              "ticks": ""
             }
            },
            "type": "scattergeo"
           }
          ],
          "scattergl": [
           {
            "marker": {
             "colorbar": {
              "outlinewidth": 0,
              "ticks": ""
             }
            },
            "type": "scattergl"
           }
          ],
          "scattermap": [
           {
            "marker": {
             "colorbar": {
              "outlinewidth": 0,
              "ticks": ""
             }
            },
            "type": "scattermap"
           }
          ],
          "scattermapbox": [
           {
            "marker": {
             "colorbar": {
              "outlinewidth": 0,
              "ticks": ""
             }
            },
            "type": "scattermapbox"
           }
          ],
          "scatterpolar": [
           {
            "marker": {
             "colorbar": {
              "outlinewidth": 0,
              "ticks": ""
             }
            },
            "type": "scatterpolar"
           }
          ],
          "scatterpolargl": [
           {
            "marker": {
             "colorbar": {
              "outlinewidth": 0,
              "ticks": ""
             }
            },
            "type": "scatterpolargl"
           }
          ],
          "scatterternary": [
           {
            "marker": {
             "colorbar": {
              "outlinewidth": 0,
              "ticks": ""
             }
            },
            "type": "scatterternary"
           }
          ],
          "surface": [
           {
            "colorbar": {
             "outlinewidth": 0,
             "ticks": ""
            },
            "colorscale": [
             [
              0,
              "#0d0887"
             ],
             [
              0.1111111111111111,
              "#46039f"
             ],
             [
              0.2222222222222222,
              "#7201a8"
             ],
             [
              0.3333333333333333,
              "#9c179e"
             ],
             [
              0.4444444444444444,
              "#bd3786"
             ],
             [
              0.5555555555555556,
              "#d8576b"
             ],
             [
              0.6666666666666666,
              "#ed7953"
             ],
             [
              0.7777777777777778,
              "#fb9f3a"
             ],
             [
              0.8888888888888888,
              "#fdca26"
             ],
             [
              1,
              "#f0f921"
             ]
            ],
            "type": "surface"
           }
          ],
          "table": [
           {
            "cells": {
             "fill": {
              "color": "#EBF0F8"
             },
             "line": {
              "color": "white"
             }
            },
            "header": {
             "fill": {
              "color": "#C8D4E3"
             },
             "line": {
              "color": "white"
             }
            },
            "type": "table"
           }
          ]
         },
         "layout": {
          "annotationdefaults": {
           "arrowcolor": "#2a3f5f",
           "arrowhead": 0,
           "arrowwidth": 1
          },
          "autotypenumbers": "strict",
          "coloraxis": {
           "colorbar": {
            "outlinewidth": 0,
            "ticks": ""
           }
          },
          "colorscale": {
           "diverging": [
            [
             0,
             "#8e0152"
            ],
            [
             0.1,
             "#c51b7d"
            ],
            [
             0.2,
             "#de77ae"
            ],
            [
             0.3,
             "#f1b6da"
            ],
            [
             0.4,
             "#fde0ef"
            ],
            [
             0.5,
             "#f7f7f7"
            ],
            [
             0.6,
             "#e6f5d0"
            ],
            [
             0.7,
             "#b8e186"
            ],
            [
             0.8,
             "#7fbc41"
            ],
            [
             0.9,
             "#4d9221"
            ],
            [
             1,
             "#276419"
            ]
           ],
           "sequential": [
            [
             0,
             "#0d0887"
            ],
            [
             0.1111111111111111,
             "#46039f"
            ],
            [
             0.2222222222222222,
             "#7201a8"
            ],
            [
             0.3333333333333333,
             "#9c179e"
            ],
            [
             0.4444444444444444,
             "#bd3786"
            ],
            [
             0.5555555555555556,
             "#d8576b"
            ],
            [
             0.6666666666666666,
             "#ed7953"
            ],
            [
             0.7777777777777778,
             "#fb9f3a"
            ],
            [
             0.8888888888888888,
             "#fdca26"
            ],
            [
             1,
             "#f0f921"
            ]
           ],
           "sequentialminus": [
            [
             0,
             "#0d0887"
            ],
            [
             0.1111111111111111,
             "#46039f"
            ],
            [
             0.2222222222222222,
             "#7201a8"
            ],
            [
             0.3333333333333333,
             "#9c179e"
            ],
            [
             0.4444444444444444,
             "#bd3786"
            ],
            [
             0.5555555555555556,
             "#d8576b"
            ],
            [
             0.6666666666666666,
             "#ed7953"
            ],
            [
             0.7777777777777778,
             "#fb9f3a"
            ],
            [
             0.8888888888888888,
             "#fdca26"
            ],
            [
             1,
             "#f0f921"
            ]
           ]
          },
          "colorway": [
           "#636efa",
           "#EF553B",
           "#00cc96",
           "#ab63fa",
           "#FFA15A",
           "#19d3f3",
           "#FF6692",
           "#B6E880",
           "#FF97FF",
           "#FECB52"
          ],
          "font": {
           "color": "#2a3f5f"
          },
          "geo": {
           "bgcolor": "white",
           "lakecolor": "white",
           "landcolor": "#E5ECF6",
           "showlakes": true,
           "showland": true,
           "subunitcolor": "white"
          },
          "hoverlabel": {
           "align": "left"
          },
          "hovermode": "closest",
          "mapbox": {
           "style": "light"
          },
          "paper_bgcolor": "white",
          "plot_bgcolor": "#E5ECF6",
          "polar": {
           "angularaxis": {
            "gridcolor": "white",
            "linecolor": "white",
            "ticks": ""
           },
           "bgcolor": "#E5ECF6",
           "radialaxis": {
            "gridcolor": "white",
            "linecolor": "white",
            "ticks": ""
           }
          },
          "scene": {
           "xaxis": {
            "backgroundcolor": "#E5ECF6",
            "gridcolor": "white",
            "gridwidth": 2,
            "linecolor": "white",
            "showbackground": true,
            "ticks": "",
            "zerolinecolor": "white"
           },
           "yaxis": {
            "backgroundcolor": "#E5ECF6",
            "gridcolor": "white",
            "gridwidth": 2,
            "linecolor": "white",
            "showbackground": true,
            "ticks": "",
            "zerolinecolor": "white"
           },
           "zaxis": {
            "backgroundcolor": "#E5ECF6",
            "gridcolor": "white",
            "gridwidth": 2,
            "linecolor": "white",
            "showbackground": true,
            "ticks": "",
            "zerolinecolor": "white"
           }
          },
          "shapedefaults": {
           "line": {
            "color": "#2a3f5f"
           }
          },
          "ternary": {
           "aaxis": {
            "gridcolor": "white",
            "linecolor": "white",
            "ticks": ""
           },
           "baxis": {
            "gridcolor": "white",
            "linecolor": "white",
            "ticks": ""
           },
           "bgcolor": "#E5ECF6",
           "caxis": {
            "gridcolor": "white",
            "linecolor": "white",
            "ticks": ""
           }
          },
          "title": {
           "x": 0.05
          },
          "xaxis": {
           "automargin": true,
           "gridcolor": "white",
           "linecolor": "white",
           "ticks": "",
           "title": {
            "standoff": 15
           },
           "zerolinecolor": "white",
           "zerolinewidth": 2
          },
          "yaxis": {
           "automargin": true,
           "gridcolor": "white",
           "linecolor": "white",
           "ticks": "",
           "title": {
            "standoff": 15
           },
           "zerolinecolor": "white",
           "zerolinewidth": 2
          }
         }
        },
        "title": {
         "text": "Sentiment Distribution"
        }
       }
      }
     },
     "metadata": {},
     "output_type": "display_data"
    }
   ],
   "source": [
    "\n",
    "# Create pie chart\n",
    "fig = create_sentiment_pie_chart(df_from_csv)\n",
    "fig.show()\n"
   ]
  },
  {
   "cell_type": "markdown",
   "id": "b12266cd",
   "metadata": {},
   "source": [
    "\n",
    "## Summary\n",
    "\n",
    "This notebook demonstrated how to:\n",
    "1. Load configuration from environment variables\n",
    "2. Fetch Bitcoin news articles\n",
    "3. Analyze sentiment on individual articles\n",
    "4. Process multiple articles and save results to CSV\n",
    "5. Read results back from CSV\n",
    "6. Visualize sentiment distribution\n",
    "\n",
    "The caching mechanism ensures that previously analyzed articles are not processed again, saving API tokens.\n"
   ]
  }
 ],
 "metadata": {
  "kernelspec": {
   "display_name": "llms-btc-env",
   "language": "python",
   "name": "python3"
  },
  "language_info": {
   "codemirror_mode": {
    "name": "ipython",
    "version": 3
   },
   "file_extension": ".py",
   "mimetype": "text/x-python",
   "name": "python",
   "nbconvert_exporter": "python",
   "pygments_lexer": "ipython3",
   "version": "3.11.11"
  }
 },
 "nbformat": 4,
 "nbformat_minor": 5
}
