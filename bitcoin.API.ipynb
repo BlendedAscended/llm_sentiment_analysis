{
 "cells": [
  {
   "cell_type": "markdown",
   "id": "24187df0",
   "metadata": {},
   "source": [
    "\n",
    "# Bitcoin News Sentiment Analysis API Demo\n",
    "\n",
    "This notebook demonstrates how to use the Bitcoin News Sentiment Analysis API to fetch news articles, analyze their sentiment, and store the results.\n"
   ]
  },
  {
   "cell_type": "markdown",
   "id": "f6af6ab3",
   "metadata": {},
   "source": [
    "\n",
    "## 1. Setup Environment\n",
    "\n",
    "First, let's load environment variables and import the required modules.\n"
   ]
  },
  {
   "cell_type": "code",
   "execution_count": 54,
   "id": "636c5ec6",
   "metadata": {},
   "outputs": [
    {
     "name": "stdout",
     "output_type": "stream",
     "text": [
      "Environment loaded successfully\n"
     ]
    }
   ],
   "source": [
    "\n",
    "# Import necessary libraries\n",
    "import pandas as pd\n",
    "from dotenv import load_dotenv\n",
    "import os\n",
    "from pathlib import Path\n",
    "\n",
    "# Import our utility functions\n",
    "from bitcoin_utils import (\n",
    "    Config, fetch_bitcoin_news, classify_sentiment,\n",
    "    process_news_articles, make_clickable, create_sentiment_pie_chart\n",
    ")\n",
    "\n",
    "# Load environment variables from .env file\n",
    "load_dotenv()\n",
    "\n",
    "# Check that we have the required API key\n",
    "if not os.getenv(\"NEWS_API_KEY\"):\n",
    "    raise ValueError(\"NEWS_API_KEY not found in .env file\")\n",
    "    \n",
    "print(\"Environment loaded successfully\")\n"
   ]
  },
  {
   "cell_type": "markdown",
   "id": "945e8148",
   "metadata": {},
   "source": [
    "\n",
    "## 2. Initialize Configuration\n",
    "\n",
    "Create a configuration object that will hold all our settings and API keys.\n"
   ]
  },
  {
   "cell_type": "code",
   "execution_count": 55,
   "id": "8f7235a7",
   "metadata": {},
   "outputs": [
    {
     "name": "stdout",
     "output_type": "stream",
     "text": [
      "Using LLM provider: together_ai\n",
      "Data directory: /Users/sandeep/Desktop/Project25/Data605/data\n"
     ]
    }
   ],
   "source": [
    "\n",
    "# Initialize the configuration\n",
    "config = Config.load()\n",
    "\n",
    "# Create data directory if it doesn't exist\n",
    "config.DATA_DIR.mkdir(exist_ok=True)\n",
    "\n",
    "print(f\"Using LLM provider: {config.PROVIDER}\")\n",
    "print(f\"Data directory: {config.DATA_DIR}\")\n"
   ]
  },
  {
   "cell_type": "markdown",
   "id": "bf4f0311",
   "metadata": {},
   "source": [
    "\n",
    "## 3. Fetch Bitcoin News\n",
    "\n",
    "Now let's fetch some recent Bitcoin news articles.\n"
   ]
  },
  {
   "cell_type": "code",
   "execution_count": 56,
   "id": "6c801134",
   "metadata": {},
   "outputs": [
    {
     "name": "stdout",
     "output_type": "stream",
     "text": [
      "Fetching Bitcoin news from 2025-04-17 to 2025-05-17...\n"
     ]
    },
    {
     "data": {
      "text/html": [
       "<div>\n",
       "<style scoped>\n",
       "    .dataframe tbody tr th:only-of-type {\n",
       "        vertical-align: middle;\n",
       "    }\n",
       "\n",
       "    .dataframe tbody tr th {\n",
       "        vertical-align: top;\n",
       "    }\n",
       "\n",
       "    .dataframe thead th {\n",
       "        text-align: right;\n",
       "    }\n",
       "</style>\n",
       "<table border=\"1\" class=\"dataframe\">\n",
       "  <thead>\n",
       "    <tr style=\"text-align: right;\">\n",
       "      <th></th>\n",
       "      <th>title</th>\n",
       "      <th>publishedAt</th>\n",
       "      <th>source</th>\n",
       "      <th>url</th>\n",
       "    </tr>\n",
       "  </thead>\n",
       "  <tbody>\n",
       "    <tr>\n",
       "      <th>0</th>\n",
       "      <td>Refer-a-Friend and You BOTH get a $20 BTC Bonu...</td>\n",
       "      <td>2025-05-16T08:10:15Z</td>\n",
       "      <td>Ozbargain.com.au</td>\n",
       "      <td>https://www.ozbargain.com.au/node/906089</td>\n",
       "    </tr>\n",
       "    <tr>\n",
       "      <th>1</th>\n",
       "      <td>Cetera Investment Advisers Decreases Holdings ...</td>\n",
       "      <td>2025-05-16T08:07:00Z</td>\n",
       "      <td>ETF Daily News</td>\n",
       "      <td>https://www.etfdailynews.com/2025/05/16/cetera...</td>\n",
       "    </tr>\n",
       "    <tr>\n",
       "      <th>2</th>\n",
       "      <td>Mercer Global Advisors Inc. ADV Takes $312,000...</td>\n",
       "      <td>2025-05-16T08:00:53Z</td>\n",
       "      <td>ETF Daily News</td>\n",
       "      <td>https://www.etfdailynews.com/2025/05/16/mercer...</td>\n",
       "    </tr>\n",
       "    <tr>\n",
       "      <th>3</th>\n",
       "      <td>Bitcoin Could See Short-Term Holder Selloff Ar...</td>\n",
       "      <td>2025-05-16T08:00:49Z</td>\n",
       "      <td>newsBTC</td>\n",
       "      <td>http://www.newsbtc.com/bitcoin-news/bitcoin-sh...</td>\n",
       "    </tr>\n",
       "    <tr>\n",
       "      <th>4</th>\n",
       "      <td>Monero: Will an 82% rally in 40 days help XMR ...</td>\n",
       "      <td>2025-05-16T08:00:28Z</td>\n",
       "      <td>Ambcrypto.com</td>\n",
       "      <td>https://ambcrypto.com/monero-will-an-82-rally-...</td>\n",
       "    </tr>\n",
       "  </tbody>\n",
       "</table>\n",
       "</div>"
      ],
      "text/plain": [
       "                                               title           publishedAt  \\\n",
       "0  Refer-a-Friend and You BOTH get a $20 BTC Bonu...  2025-05-16T08:10:15Z   \n",
       "1  Cetera Investment Advisers Decreases Holdings ...  2025-05-16T08:07:00Z   \n",
       "2  Mercer Global Advisors Inc. ADV Takes $312,000...  2025-05-16T08:00:53Z   \n",
       "3  Bitcoin Could See Short-Term Holder Selloff Ar...  2025-05-16T08:00:49Z   \n",
       "4  Monero: Will an 82% rally in 40 days help XMR ...  2025-05-16T08:00:28Z   \n",
       "\n",
       "             source                                                url  \n",
       "0  Ozbargain.com.au           https://www.ozbargain.com.au/node/906089  \n",
       "1    ETF Daily News  https://www.etfdailynews.com/2025/05/16/cetera...  \n",
       "2    ETF Daily News  https://www.etfdailynews.com/2025/05/16/mercer...  \n",
       "3           newsBTC  http://www.newsbtc.com/bitcoin-news/bitcoin-sh...  \n",
       "4     Ambcrypto.com  https://ambcrypto.com/monero-will-an-82-rally-...  "
      ]
     },
     "execution_count": 56,
     "metadata": {},
     "output_type": "execute_result"
    }
   ],
   "source": [
    "\n",
    "# Fetch latest Bitcoin news (last 3 days, 5 articles)\n",
    "articles = fetch_bitcoin_news(config, page_size=30, days_back=30)\n",
    "\n",
    "# Convert to DataFrame for easier viewing\n",
    "df_articles = pd.DataFrame([\n",
    "    {\n",
    "        'title': article.get('title'),\n",
    "        'publishedAt': article.get('publishedAt'),\n",
    "        'source': article.get('source', {}).get('name'),\n",
    "        'url': article.get('url')\n",
    "    } for article in articles\n",
    "])\n",
    "\n",
    "# Display the articles\n",
    "df_articles.head()\n"
   ]
  },
  {
   "cell_type": "markdown",
   "id": "be3cd98b",
   "metadata": {},
   "source": [
    "\n",
    "## 4. Analyze Sentiment on Individual Headlines\n",
    "\n",
    "Let's analyze the sentiment of a few headlines to demonstrate the API.\n"
   ]
  },
  {
   "cell_type": "code",
   "execution_count": 57,
   "id": "ae4067db",
   "metadata": {},
   "outputs": [
    {
     "name": "stdout",
     "output_type": "stream",
     "text": [
      "[Pos] Refer-a-Friend and You BOTH get a $20 BTC Bonus (Plus BOTH get $5 in Reward Points) @ Coinjar\n",
      "[Ne] Cetera Investment Advisers Decreases Holdings in MARA Holdings, Inc. (NASDAQ:MARA)\n",
      "[Ne] Mercer Global Advisors Inc. ADV Takes $312,000 Position in Bitwise Bitcoin ETF (NYSEARCA:BITB)\n"
     ]
    },
    {
     "data": {
      "text/html": [
       "<div>\n",
       "<style scoped>\n",
       "    .dataframe tbody tr th:only-of-type {\n",
       "        vertical-align: middle;\n",
       "    }\n",
       "\n",
       "    .dataframe tbody tr th {\n",
       "        vertical-align: top;\n",
       "    }\n",
       "\n",
       "    .dataframe thead th {\n",
       "        text-align: right;\n",
       "    }\n",
       "</style>\n",
       "<table border=\"1\" class=\"dataframe\">\n",
       "  <thead>\n",
       "    <tr style=\"text-align: right;\">\n",
       "      <th></th>\n",
       "      <th>headline</th>\n",
       "      <th>content_preview</th>\n",
       "      <th>sentiment</th>\n",
       "      <th>score</th>\n",
       "    </tr>\n",
       "  </thead>\n",
       "  <tbody>\n",
       "    <tr>\n",
       "      <th>0</th>\n",
       "      <td>Refer-a-Friend and You BOTH get a $20 BTC Bonu...</td>\n",
       "      <td>To celebrate our recent awards, we are spinnin...</td>\n",
       "      <td>Pos</td>\n",
       "      <td>0</td>\n",
       "    </tr>\n",
       "    <tr>\n",
       "      <th>1</th>\n",
       "      <td>Cetera Investment Advisers Decreases Holdings ...</td>\n",
       "      <td>Cetera Investment Advisers trimmed its positio...</td>\n",
       "      <td>Ne</td>\n",
       "      <td>0</td>\n",
       "    </tr>\n",
       "    <tr>\n",
       "      <th>2</th>\n",
       "      <td>Mercer Global Advisors Inc. ADV Takes $312,000...</td>\n",
       "      <td>Mercer Global Advisors Inc. ADV purchased a ne...</td>\n",
       "      <td>Ne</td>\n",
       "      <td>0</td>\n",
       "    </tr>\n",
       "  </tbody>\n",
       "</table>\n",
       "</div>"
      ],
      "text/plain": [
       "                                            headline  \\\n",
       "0  Refer-a-Friend and You BOTH get a $20 BTC Bonu...   \n",
       "1  Cetera Investment Advisers Decreases Holdings ...   \n",
       "2  Mercer Global Advisors Inc. ADV Takes $312,000...   \n",
       "\n",
       "                                     content_preview sentiment  score  \n",
       "0  To celebrate our recent awards, we are spinnin...       Pos      0  \n",
       "1  Cetera Investment Advisers trimmed its positio...        Ne      0  \n",
       "2  Mercer Global Advisors Inc. ADV purchased a ne...        Ne      0  "
      ]
     },
     "execution_count": 57,
     "metadata": {},
     "output_type": "execute_result"
    }
   ],
   "source": [
    "\n",
    "# Take the first 3 articles for demonstration\n",
    "demo_articles = articles[:3]\n",
    "\n",
    "# Analyze sentiment for each article\n",
    "results = []\n",
    "for article in demo_articles:\n",
    "    title = article.get('title')\n",
    "    content = article.get('description') or article.get('content', '')\n",
    "    \n",
    "    # Skip if no content\n",
    "    if not content:\n",
    "        print(f\"No content for: {title}\")\n",
    "        continue\n",
    "    \n",
    "    # Analyze sentiment\n",
    "    sentiment, cost = classify_sentiment(content, config)\n",
    "    \n",
    "    # Store result\n",
    "    results.append({\n",
    "        'headline': title,\n",
    "        'content_preview': content[:100] + '...',\n",
    "        'sentiment': sentiment,\n",
    "        'score': 1 if sentiment.lower() == 'positive' else (-1 if sentiment.lower() == 'negative' else 0)\n",
    "    })\n",
    "    print(f\"[{sentiment}] {title}\")\n",
    "\n",
    "# Display results\n",
    "pd.DataFrame(results)\n"
   ]
  },
  {
   "cell_type": "markdown",
   "id": "75c3d3d7",
   "metadata": {},
   "source": [
    "\n",
    "## 5. Process All Articles and Save to CSV\n",
    "\n",
    "Now let's process all articles in a batch and save the results to a CSV file.\n"
   ]
  },
  {
   "cell_type": "code",
   "execution_count": 58,
   "id": "2d68ef6d",
   "metadata": {},
   "outputs": [
    {
     "name": "stdout",
     "output_type": "stream",
     "text": [
      "Fetching Bitcoin news from 2025-04-17 to 2025-05-17...\n",
      "Fetched 30 articles\n",
      "[NEW] [Pos] Refer-a-Friend and You BOTH get a $20 BTC Bonus (Plus BOTH get $5 in Reward Poin...\n",
      "[CACHED] [N] Cetera Investment Advisers Decreases Holdings in MARA Holdings, Inc. (NASDAQ:MAR...\n",
      "[CACHED] [N] Mercer Global Advisors Inc. ADV Takes $312,000 Position in Bitwise Bitcoin ETF (...\n",
      "[CACHED] [N] Bitcoin Could See Short-Term Holder Selloff Around These Levels, Analyst Says...\n",
      "[CACHED] [N] Monero: Will an 82% rally in 40 days help XMR reach $489?...\n",
      "[CACHED] [Pos] Bitcoin hitting $220K 'reasonable' in 2025 says gold-based forecast...\n",
      "[CACHED] [N] Mercer Global Advisors Inc. ADV Makes New $293,000 Investment in CompoSecure, In...\n",
      "[CACHED] [Pos] Bitcoin Bulls Face $120M Challenge in Extending 'Stair-Step' Uptrend...\n",
      "[CACHED] [N] Comerica Bank Sells 439 Shares of Grayscale Bitcoin Trust (NYSEARCA:GBTC)...\n",
      "[CACHED] [Pos] Ukraine Strategic Bitcoin Reserve Bill Reportedly In Final Stages...\n",
      "[CACHED] [N] Google fixed a Chrome vulnerability that could lead to full account takeover...\n",
      "[CACHED] [N] Tether AI: What it is and why it matters for crypto and AI...\n",
      "[NEW] [Pos] ZA Miner Introduces Passive Crypto Income Opportunities with Flexible Contracts...\n",
      "[NEW] [Pos] Virtune AB (Publ) is launching Virtune Bitcoin Prime ETP on Nasdaq Stockholm...\n",
      "[NEW] [Pos] Bitcoin To Eclipse $200,000 As Economic Volatility Subsides, Says Bitwise CIO Ma...\n",
      "[NEW] [Pos] KGN Cloud Launches Intelligent Cloud Mining Platform as Bitcoin Crosses $80K and...\n",
      "[NEW] [Ne] Bitcoin Price Rises Above $104,000 Mark; JPMorgan Says Bitcoin Could Outperform ...\n",
      "[NEW] [Ne] Best Crypto Casinos 2025: Top Bitcoin Casino Sites Recommended By NextCasinos...\n",
      "[NEW] [Ne] Don’t hate me because you’re impotent!...\n",
      "[NEW] [Ne] Northland Capmk Has Negative Outlook of TeraWulf Q2 Earnings...\n",
      "[NEW] [Ne] NFTs rise 69%, hit new $4.8B high: What’s driving the 2025 surge?...\n",
      "[NEW] [Pos] Bitcoin tops $104,000 on rate cut hopes, institutional buying; Altcoins trade mi...\n",
      "[NEW] [Ne] Price PR...\n",
      "[NEW] [Pos] Bitdeer’s Q1 mining revenue drops 41% YoY, net income surges on derivative gains...\n",
      "[NEW] [Ne] Why Are Bitcoiners Eying Ruvi AI (RUVI)? Experts Predict its Incredible Gains in...\n",
      "[NEW] [Ne] Price PR...\n",
      "[NEW] [Pos] Blockchain Stocks To Follow Now – May 14th...\n",
      "[NEW] [Ne] Top Financial Stocks Worth Watching – May 14th...\n",
      "[NEW] [Ne] Ethereum Goes Heavy On Defense With Trillion-Dollar Security Initiative...\n",
      "[NEW] [Ne] BRETT drops 10% in 24 hours: Is a dip to $0.063 next?...\n",
      "Cache updated with 19 new entries.\n",
      "Articles processed: 30 (New: 19, Cached: 11)\n",
      "Total cost: $0.000000\n",
      "\n",
      "Processed 30 articles\n",
      "\n",
      "Sentiment distribution:\n",
      "sentiment\n",
      "Pos    11\n",
      "Ne     11\n",
      "N       8\n",
      "Name: count, dtype: int64\n",
      "\n",
      "Results saved to /Users/sandeep/Desktop/Project25/Data605/data/bitcoin_demo_results.csv\n"
     ]
    },
    {
     "data": {
      "text/html": [
       "<div>\n",
       "<style scoped>\n",
       "    .dataframe tbody tr th:only-of-type {\n",
       "        vertical-align: middle;\n",
       "    }\n",
       "\n",
       "    .dataframe tbody tr th {\n",
       "        vertical-align: top;\n",
       "    }\n",
       "\n",
       "    .dataframe thead th {\n",
       "        text-align: right;\n",
       "    }\n",
       "</style>\n",
       "<table border=\"1\" class=\"dataframe\">\n",
       "  <thead>\n",
       "    <tr style=\"text-align: right;\">\n",
       "      <th></th>\n",
       "      <th>publishedAt</th>\n",
       "      <th>headline</th>\n",
       "      <th>sentiment</th>\n",
       "      <th>score</th>\n",
       "      <th>url</th>\n",
       "      <th>cost</th>\n",
       "      <th>cached</th>\n",
       "    </tr>\n",
       "  </thead>\n",
       "  <tbody>\n",
       "    <tr>\n",
       "      <th>0</th>\n",
       "      <td>2025-05-16 08:10:15+00:00</td>\n",
       "      <td>Refer-a-Friend and You BOTH get a $20 BTC Bonu...</td>\n",
       "      <td>Pos</td>\n",
       "      <td>1</td>\n",
       "      <td>https://www.ozbargain.com.au/node/906089</td>\n",
       "      <td>0.0</td>\n",
       "      <td>False</td>\n",
       "    </tr>\n",
       "    <tr>\n",
       "      <th>1</th>\n",
       "      <td>2025-05-16 08:07:00+00:00</td>\n",
       "      <td>Cetera Investment Advisers Decreases Holdings ...</td>\n",
       "      <td>N</td>\n",
       "      <td>0</td>\n",
       "      <td>https://www.etfdailynews.com/2025/05/16/cetera...</td>\n",
       "      <td>0.0</td>\n",
       "      <td>True</td>\n",
       "    </tr>\n",
       "    <tr>\n",
       "      <th>2</th>\n",
       "      <td>2025-05-16 08:00:53+00:00</td>\n",
       "      <td>Mercer Global Advisors Inc. ADV Takes $312,000...</td>\n",
       "      <td>N</td>\n",
       "      <td>0</td>\n",
       "      <td>https://www.etfdailynews.com/2025/05/16/mercer...</td>\n",
       "      <td>0.0</td>\n",
       "      <td>True</td>\n",
       "    </tr>\n",
       "    <tr>\n",
       "      <th>3</th>\n",
       "      <td>2025-05-16 08:00:49+00:00</td>\n",
       "      <td>Bitcoin Could See Short-Term Holder Selloff Ar...</td>\n",
       "      <td>N</td>\n",
       "      <td>0</td>\n",
       "      <td>http://www.newsbtc.com/bitcoin-news/bitcoin-sh...</td>\n",
       "      <td>0.0</td>\n",
       "      <td>True</td>\n",
       "    </tr>\n",
       "    <tr>\n",
       "      <th>4</th>\n",
       "      <td>2025-05-16 08:00:28+00:00</td>\n",
       "      <td>Monero: Will an 82% rally in 40 days help XMR ...</td>\n",
       "      <td>N</td>\n",
       "      <td>0</td>\n",
       "      <td>https://ambcrypto.com/monero-will-an-82-rally-...</td>\n",
       "      <td>0.0</td>\n",
       "      <td>True</td>\n",
       "    </tr>\n",
       "  </tbody>\n",
       "</table>\n",
       "</div>"
      ],
      "text/plain": [
       "                publishedAt  \\\n",
       "0 2025-05-16 08:10:15+00:00   \n",
       "1 2025-05-16 08:07:00+00:00   \n",
       "2 2025-05-16 08:00:53+00:00   \n",
       "3 2025-05-16 08:00:49+00:00   \n",
       "4 2025-05-16 08:00:28+00:00   \n",
       "\n",
       "                                            headline sentiment  score  \\\n",
       "0  Refer-a-Friend and You BOTH get a $20 BTC Bonu...       Pos      1   \n",
       "1  Cetera Investment Advisers Decreases Holdings ...         N      0   \n",
       "2  Mercer Global Advisors Inc. ADV Takes $312,000...         N      0   \n",
       "3  Bitcoin Could See Short-Term Holder Selloff Ar...         N      0   \n",
       "4  Monero: Will an 82% rally in 40 days help XMR ...         N      0   \n",
       "\n",
       "                                                 url  cost  cached  \n",
       "0           https://www.ozbargain.com.au/node/906089   0.0   False  \n",
       "1  https://www.etfdailynews.com/2025/05/16/cetera...   0.0    True  \n",
       "2  https://www.etfdailynews.com/2025/05/16/mercer...   0.0    True  \n",
       "3  http://www.newsbtc.com/bitcoin-news/bitcoin-sh...   0.0    True  \n",
       "4  https://ambcrypto.com/monero-will-an-82-rally-...   0.0    True  "
      ]
     },
     "execution_count": 58,
     "metadata": {},
     "output_type": "execute_result"
    }
   ],
   "source": [
    "\n",
    "# Process all articles\n",
    "df_processed = process_news_articles(config, page_size=30, days_back=30)\n",
    "\n",
    "# Display summary\n",
    "print(f\"\\nProcessed {len(df_processed)} articles\")\n",
    "print(\"\\nSentiment distribution:\")\n",
    "print(df_processed['sentiment'].value_counts())\n",
    "\n",
    "# Save to CSV\n",
    "output_file = config.DATA_DIR / \"bitcoin_demo_results.csv\"\n",
    "df_processed.to_csv(output_file, index=False)\n",
    "print(f\"\\nResults saved to {output_file}\")\n",
    "\n",
    "# Show the results\n",
    "df_processed.head()\n"
   ]
  },
  {
   "cell_type": "markdown",
   "id": "7b051991",
   "metadata": {},
   "source": [
    "\n",
    "## 6. Read Results from CSV\n",
    "\n",
    "Let's read back the results from the CSV file to demonstrate persistence.\n"
   ]
  },
  {
   "cell_type": "code",
   "execution_count": 59,
   "id": "65868e26",
   "metadata": {},
   "outputs": [
    {
     "name": "stdout",
     "output_type": "stream",
     "text": [
      "Read 30 articles from CSV\n"
     ]
    },
    {
     "data": {
      "text/html": [
       "<div>\n",
       "<style scoped>\n",
       "    .dataframe tbody tr th:only-of-type {\n",
       "        vertical-align: middle;\n",
       "    }\n",
       "\n",
       "    .dataframe tbody tr th {\n",
       "        vertical-align: top;\n",
       "    }\n",
       "\n",
       "    .dataframe thead th {\n",
       "        text-align: right;\n",
       "    }\n",
       "</style>\n",
       "<table border=\"1\" class=\"dataframe\">\n",
       "  <thead>\n",
       "    <tr style=\"text-align: right;\">\n",
       "      <th></th>\n",
       "      <th>publishedAt</th>\n",
       "      <th>headline</th>\n",
       "      <th>sentiment</th>\n",
       "      <th>score</th>\n",
       "      <th>url</th>\n",
       "      <th>cost</th>\n",
       "      <th>cached</th>\n",
       "    </tr>\n",
       "  </thead>\n",
       "  <tbody>\n",
       "    <tr>\n",
       "      <th>0</th>\n",
       "      <td>2025-05-16 08:10:15+00:00</td>\n",
       "      <td>Refer-a-Friend and You BOTH get a $20 BTC Bonu...</td>\n",
       "      <td>Pos</td>\n",
       "      <td>1</td>\n",
       "      <td>https://www.ozbargain.com.au/node/906089</td>\n",
       "      <td>0.0</td>\n",
       "      <td>False</td>\n",
       "    </tr>\n",
       "    <tr>\n",
       "      <th>1</th>\n",
       "      <td>2025-05-16 08:07:00+00:00</td>\n",
       "      <td>Cetera Investment Advisers Decreases Holdings ...</td>\n",
       "      <td>N</td>\n",
       "      <td>0</td>\n",
       "      <td>https://www.etfdailynews.com/2025/05/16/cetera...</td>\n",
       "      <td>0.0</td>\n",
       "      <td>True</td>\n",
       "    </tr>\n",
       "    <tr>\n",
       "      <th>2</th>\n",
       "      <td>2025-05-16 08:00:53+00:00</td>\n",
       "      <td>Mercer Global Advisors Inc. ADV Takes $312,000...</td>\n",
       "      <td>N</td>\n",
       "      <td>0</td>\n",
       "      <td>https://www.etfdailynews.com/2025/05/16/mercer...</td>\n",
       "      <td>0.0</td>\n",
       "      <td>True</td>\n",
       "    </tr>\n",
       "    <tr>\n",
       "      <th>3</th>\n",
       "      <td>2025-05-16 08:00:49+00:00</td>\n",
       "      <td>Bitcoin Could See Short-Term Holder Selloff Ar...</td>\n",
       "      <td>N</td>\n",
       "      <td>0</td>\n",
       "      <td>http://www.newsbtc.com/bitcoin-news/bitcoin-sh...</td>\n",
       "      <td>0.0</td>\n",
       "      <td>True</td>\n",
       "    </tr>\n",
       "    <tr>\n",
       "      <th>4</th>\n",
       "      <td>2025-05-16 08:00:28+00:00</td>\n",
       "      <td>Monero: Will an 82% rally in 40 days help XMR ...</td>\n",
       "      <td>N</td>\n",
       "      <td>0</td>\n",
       "      <td>https://ambcrypto.com/monero-will-an-82-rally-...</td>\n",
       "      <td>0.0</td>\n",
       "      <td>True</td>\n",
       "    </tr>\n",
       "  </tbody>\n",
       "</table>\n",
       "</div>"
      ],
      "text/plain": [
       "                publishedAt  \\\n",
       "0 2025-05-16 08:10:15+00:00   \n",
       "1 2025-05-16 08:07:00+00:00   \n",
       "2 2025-05-16 08:00:53+00:00   \n",
       "3 2025-05-16 08:00:49+00:00   \n",
       "4 2025-05-16 08:00:28+00:00   \n",
       "\n",
       "                                            headline sentiment  score  \\\n",
       "0  Refer-a-Friend and You BOTH get a $20 BTC Bonu...       Pos      1   \n",
       "1  Cetera Investment Advisers Decreases Holdings ...         N      0   \n",
       "2  Mercer Global Advisors Inc. ADV Takes $312,000...         N      0   \n",
       "3  Bitcoin Could See Short-Term Holder Selloff Ar...         N      0   \n",
       "4  Monero: Will an 82% rally in 40 days help XMR ...         N      0   \n",
       "\n",
       "                                                 url  cost  cached  \n",
       "0           https://www.ozbargain.com.au/node/906089   0.0   False  \n",
       "1  https://www.etfdailynews.com/2025/05/16/cetera...   0.0    True  \n",
       "2  https://www.etfdailynews.com/2025/05/16/mercer...   0.0    True  \n",
       "3  http://www.newsbtc.com/bitcoin-news/bitcoin-sh...   0.0    True  \n",
       "4  https://ambcrypto.com/monero-will-an-82-rally-...   0.0    True  "
      ]
     },
     "execution_count": 59,
     "metadata": {},
     "output_type": "execute_result"
    }
   ],
   "source": [
    "\n",
    "# Read from CSV\n",
    "df_from_csv = pd.read_csv(output_file)\n",
    "\n",
    "# Convert date column back to datetime\n",
    "df_from_csv['publishedAt'] = pd.to_datetime(df_from_csv['publishedAt'])\n",
    "\n",
    "print(f\"Read {len(df_from_csv)} articles from CSV\")\n",
    "df_from_csv.head()\n"
   ]
  },
  {
   "cell_type": "markdown",
   "id": "634a5320",
   "metadata": {},
   "source": [
    "\n",
    "## 7. Visualize Sentiment Distribution\n",
    "\n",
    "Finally, let's visualize the sentiment distribution using the helper function.\n"
   ]
  },
  {
   "cell_type": "code",
   "execution_count": 60,
   "id": "38317db0",
   "metadata": {},
   "outputs": [],
   "source": [
    "# Normalize sentiment labels to ensure only three categories\n",
    "sentiment_map = {\n",
    "    'Pos': 'Positive',\n",
    "    'pos': 'Positive',\n",
    "    'Positive': 'Positive',\n",
    "    'positive': 'Positive',\n",
    "    'Neg': 'Negative',\n",
    "    'neg': 'Negative',\n",
    "    'Negative': 'Negative',\n",
    "    'negative': 'Negative',\n",
    "    'N': 'Neutral',\n",
    "    'n': 'Neutral',\n",
    "    'Ne': 'Neutral',\n",
    "    'ne': 'Neutral',\n",
    "    'Neutral': 'Neutral',\n",
    "    'neutral': 'Neutral'\n",
    "}\n",
    "df_from_csv['sentiment'] = df_from_csv['sentiment'].map(lambda x: sentiment_map.get(str(x).strip(), 'Neutral'))"
   ]
  },
  {
   "cell_type": "code",
   "execution_count": 61,
   "id": "c2b19aec",
   "metadata": {},
   "outputs": [
    {
     "data": {
      "application/vnd.plotly.v1+json": {
       "config": {
        "plotlyServerURL": "https://plot.ly"
       },
       "data": [
        {
         "customdata": [
          [
           "Neutral"
          ],
          [
           "Positive"
          ]
         ],
         "domain": {
          "x": [
           0,
           1
          ],
          "y": [
           0,
           1
          ]
         },
         "hovertemplate": "label=%{label}<br>value=%{value}<br>color=%{customdata[0]}<extra></extra>",
         "labels": [
          "Neutral",
          "Positive"
         ],
         "legendgroup": "",
         "marker": {
          "colors": [
           "gray",
           "green"
          ]
         },
         "name": "",
         "showlegend": true,
         "type": "pie",
         "values": {
          "bdata": "Ews=",
          "dtype": "i1"
         }
        }
       ],
       "layout": {
        "legend": {
         "tracegroupgap": 0
        },
        "template": {
         "data": {
          "bar": [
           {
            "error_x": {
             "color": "#2a3f5f"
            },
            "error_y": {
             "color": "#2a3f5f"
            },
            "marker": {
             "line": {
              "color": "#E5ECF6",
              "width": 0.5
             },
             "pattern": {
              "fillmode": "overlay",
              "size": 10,
              "solidity": 0.2
             }
            },
            "type": "bar"
           }
          ],
          "barpolar": [
           {
            "marker": {
             "line": {
              "color": "#E5ECF6",
              "width": 0.5
             },
             "pattern": {
              "fillmode": "overlay",
              "size": 10,
              "solidity": 0.2
             }
            },
            "type": "barpolar"
           }
          ],
          "carpet": [
           {
            "aaxis": {
             "endlinecolor": "#2a3f5f",
             "gridcolor": "white",
             "linecolor": "white",
             "minorgridcolor": "white",
             "startlinecolor": "#2a3f5f"
            },
            "baxis": {
             "endlinecolor": "#2a3f5f",
             "gridcolor": "white",
             "linecolor": "white",
             "minorgridcolor": "white",
             "startlinecolor": "#2a3f5f"
            },
            "type": "carpet"
           }
          ],
          "choropleth": [
           {
            "colorbar": {
             "outlinewidth": 0,
             "ticks": ""
            },
            "type": "choropleth"
           }
          ],
          "contour": [
           {
            "colorbar": {
             "outlinewidth": 0,
             "ticks": ""
            },
            "colorscale": [
             [
              0,
              "#0d0887"
             ],
             [
              0.1111111111111111,
              "#46039f"
             ],
             [
              0.2222222222222222,
              "#7201a8"
             ],
             [
              0.3333333333333333,
              "#9c179e"
             ],
             [
              0.4444444444444444,
              "#bd3786"
             ],
             [
              0.5555555555555556,
              "#d8576b"
             ],
             [
              0.6666666666666666,
              "#ed7953"
             ],
             [
              0.7777777777777778,
              "#fb9f3a"
             ],
             [
              0.8888888888888888,
              "#fdca26"
             ],
             [
              1,
              "#f0f921"
             ]
            ],
            "type": "contour"
           }
          ],
          "contourcarpet": [
           {
            "colorbar": {
             "outlinewidth": 0,
             "ticks": ""
            },
            "type": "contourcarpet"
           }
          ],
          "heatmap": [
           {
            "colorbar": {
             "outlinewidth": 0,
             "ticks": ""
            },
            "colorscale": [
             [
              0,
              "#0d0887"
             ],
             [
              0.1111111111111111,
              "#46039f"
             ],
             [
              0.2222222222222222,
              "#7201a8"
             ],
             [
              0.3333333333333333,
              "#9c179e"
             ],
             [
              0.4444444444444444,
              "#bd3786"
             ],
             [
              0.5555555555555556,
              "#d8576b"
             ],
             [
              0.6666666666666666,
              "#ed7953"
             ],
             [
              0.7777777777777778,
              "#fb9f3a"
             ],
             [
              0.8888888888888888,
              "#fdca26"
             ],
             [
              1,
              "#f0f921"
             ]
            ],
            "type": "heatmap"
           }
          ],
          "histogram": [
           {
            "marker": {
             "pattern": {
              "fillmode": "overlay",
              "size": 10,
              "solidity": 0.2
             }
            },
            "type": "histogram"
           }
          ],
          "histogram2d": [
           {
            "colorbar": {
             "outlinewidth": 0,
             "ticks": ""
            },
            "colorscale": [
             [
              0,
              "#0d0887"
             ],
             [
              0.1111111111111111,
              "#46039f"
             ],
             [
              0.2222222222222222,
              "#7201a8"
             ],
             [
              0.3333333333333333,
              "#9c179e"
             ],
             [
              0.4444444444444444,
              "#bd3786"
             ],
             [
              0.5555555555555556,
              "#d8576b"
             ],
             [
              0.6666666666666666,
              "#ed7953"
             ],
             [
              0.7777777777777778,
              "#fb9f3a"
             ],
             [
              0.8888888888888888,
              "#fdca26"
             ],
             [
              1,
              "#f0f921"
             ]
            ],
            "type": "histogram2d"
           }
          ],
          "histogram2dcontour": [
           {
            "colorbar": {
             "outlinewidth": 0,
             "ticks": ""
            },
            "colorscale": [
             [
              0,
              "#0d0887"
             ],
             [
              0.1111111111111111,
              "#46039f"
             ],
             [
              0.2222222222222222,
              "#7201a8"
             ],
             [
              0.3333333333333333,
              "#9c179e"
             ],
             [
              0.4444444444444444,
              "#bd3786"
             ],
             [
              0.5555555555555556,
              "#d8576b"
             ],
             [
              0.6666666666666666,
              "#ed7953"
             ],
             [
              0.7777777777777778,
              "#fb9f3a"
             ],
             [
              0.8888888888888888,
              "#fdca26"
             ],
             [
              1,
              "#f0f921"
             ]
            ],
            "type": "histogram2dcontour"
           }
          ],
          "mesh3d": [
           {
            "colorbar": {
             "outlinewidth": 0,
             "ticks": ""
            },
            "type": "mesh3d"
           }
          ],
          "parcoords": [
           {
            "line": {
             "colorbar": {
              "outlinewidth": 0,
              "ticks": ""
             }
            },
            "type": "parcoords"
           }
          ],
          "pie": [
           {
            "automargin": true,
            "type": "pie"
           }
          ],
          "scatter": [
           {
            "fillpattern": {
             "fillmode": "overlay",
             "size": 10,
             "solidity": 0.2
            },
            "type": "scatter"
           }
          ],
          "scatter3d": [
           {
            "line": {
             "colorbar": {
              "outlinewidth": 0,
              "ticks": ""
             }
            },
            "marker": {
             "colorbar": {
              "outlinewidth": 0,
              "ticks": ""
             }
            },
            "type": "scatter3d"
           }
          ],
          "scattercarpet": [
           {
            "marker": {
             "colorbar": {
              "outlinewidth": 0,
              "ticks": ""
             }
            },
            "type": "scattercarpet"
           }
          ],
          "scattergeo": [
           {
            "marker": {
             "colorbar": {
              "outlinewidth": 0,
              "ticks": ""
             }
            },
            "type": "scattergeo"
           }
          ],
          "scattergl": [
           {
            "marker": {
             "colorbar": {
              "outlinewidth": 0,
              "ticks": ""
             }
            },
            "type": "scattergl"
           }
          ],
          "scattermap": [
           {
            "marker": {
             "colorbar": {
              "outlinewidth": 0,
              "ticks": ""
             }
            },
            "type": "scattermap"
           }
          ],
          "scattermapbox": [
           {
            "marker": {
             "colorbar": {
              "outlinewidth": 0,
              "ticks": ""
             }
            },
            "type": "scattermapbox"
           }
          ],
          "scatterpolar": [
           {
            "marker": {
             "colorbar": {
              "outlinewidth": 0,
              "ticks": ""
             }
            },
            "type": "scatterpolar"
           }
          ],
          "scatterpolargl": [
           {
            "marker": {
             "colorbar": {
              "outlinewidth": 0,
              "ticks": ""
             }
            },
            "type": "scatterpolargl"
           }
          ],
          "scatterternary": [
           {
            "marker": {
             "colorbar": {
              "outlinewidth": 0,
              "ticks": ""
             }
            },
            "type": "scatterternary"
           }
          ],
          "surface": [
           {
            "colorbar": {
             "outlinewidth": 0,
             "ticks": ""
            },
            "colorscale": [
             [
              0,
              "#0d0887"
             ],
             [
              0.1111111111111111,
              "#46039f"
             ],
             [
              0.2222222222222222,
              "#7201a8"
             ],
             [
              0.3333333333333333,
              "#9c179e"
             ],
             [
              0.4444444444444444,
              "#bd3786"
             ],
             [
              0.5555555555555556,
              "#d8576b"
             ],
             [
              0.6666666666666666,
              "#ed7953"
             ],
             [
              0.7777777777777778,
              "#fb9f3a"
             ],
             [
              0.8888888888888888,
              "#fdca26"
             ],
             [
              1,
              "#f0f921"
             ]
            ],
            "type": "surface"
           }
          ],
          "table": [
           {
            "cells": {
             "fill": {
              "color": "#EBF0F8"
             },
             "line": {
              "color": "white"
             }
            },
            "header": {
             "fill": {
              "color": "#C8D4E3"
             },
             "line": {
              "color": "white"
             }
            },
            "type": "table"
           }
          ]
         },
         "layout": {
          "annotationdefaults": {
           "arrowcolor": "#2a3f5f",
           "arrowhead": 0,
           "arrowwidth": 1
          },
          "autotypenumbers": "strict",
          "coloraxis": {
           "colorbar": {
            "outlinewidth": 0,
            "ticks": ""
           }
          },
          "colorscale": {
           "diverging": [
            [
             0,
             "#8e0152"
            ],
            [
             0.1,
             "#c51b7d"
            ],
            [
             0.2,
             "#de77ae"
            ],
            [
             0.3,
             "#f1b6da"
            ],
            [
             0.4,
             "#fde0ef"
            ],
            [
             0.5,
             "#f7f7f7"
            ],
            [
             0.6,
             "#e6f5d0"
            ],
            [
             0.7,
             "#b8e186"
            ],
            [
             0.8,
             "#7fbc41"
            ],
            [
             0.9,
             "#4d9221"
            ],
            [
             1,
             "#276419"
            ]
           ],
           "sequential": [
            [
             0,
             "#0d0887"
            ],
            [
             0.1111111111111111,
             "#46039f"
            ],
            [
             0.2222222222222222,
             "#7201a8"
            ],
            [
             0.3333333333333333,
             "#9c179e"
            ],
            [
             0.4444444444444444,
             "#bd3786"
            ],
            [
             0.5555555555555556,
             "#d8576b"
            ],
            [
             0.6666666666666666,
             "#ed7953"
            ],
            [
             0.7777777777777778,
             "#fb9f3a"
            ],
            [
             0.8888888888888888,
             "#fdca26"
            ],
            [
             1,
             "#f0f921"
            ]
           ],
           "sequentialminus": [
            [
             0,
             "#0d0887"
            ],
            [
             0.1111111111111111,
             "#46039f"
            ],
            [
             0.2222222222222222,
             "#7201a8"
            ],
            [
             0.3333333333333333,
             "#9c179e"
            ],
            [
             0.4444444444444444,
             "#bd3786"
            ],
            [
             0.5555555555555556,
             "#d8576b"
            ],
            [
             0.6666666666666666,
             "#ed7953"
            ],
            [
             0.7777777777777778,
             "#fb9f3a"
            ],
            [
             0.8888888888888888,
             "#fdca26"
            ],
            [
             1,
             "#f0f921"
            ]
           ]
          },
          "colorway": [
           "#636efa",
           "#EF553B",
           "#00cc96",
           "#ab63fa",
           "#FFA15A",
           "#19d3f3",
           "#FF6692",
           "#B6E880",
           "#FF97FF",
           "#FECB52"
          ],
          "font": {
           "color": "#2a3f5f"
          },
          "geo": {
           "bgcolor": "white",
           "lakecolor": "white",
           "landcolor": "#E5ECF6",
           "showlakes": true,
           "showland": true,
           "subunitcolor": "white"
          },
          "hoverlabel": {
           "align": "left"
          },
          "hovermode": "closest",
          "mapbox": {
           "style": "light"
          },
          "paper_bgcolor": "white",
          "plot_bgcolor": "#E5ECF6",
          "polar": {
           "angularaxis": {
            "gridcolor": "white",
            "linecolor": "white",
            "ticks": ""
           },
           "bgcolor": "#E5ECF6",
           "radialaxis": {
            "gridcolor": "white",
            "linecolor": "white",
            "ticks": ""
           }
          },
          "scene": {
           "xaxis": {
            "backgroundcolor": "#E5ECF6",
            "gridcolor": "white",
            "gridwidth": 2,
            "linecolor": "white",
            "showbackground": true,
            "ticks": "",
            "zerolinecolor": "white"
           },
           "yaxis": {
            "backgroundcolor": "#E5ECF6",
            "gridcolor": "white",
            "gridwidth": 2,
            "linecolor": "white",
            "showbackground": true,
            "ticks": "",
            "zerolinecolor": "white"
           },
           "zaxis": {
            "backgroundcolor": "#E5ECF6",
            "gridcolor": "white",
            "gridwidth": 2,
            "linecolor": "white",
            "showbackground": true,
            "ticks": "",
            "zerolinecolor": "white"
           }
          },
          "shapedefaults": {
           "line": {
            "color": "#2a3f5f"
           }
          },
          "ternary": {
           "aaxis": {
            "gridcolor": "white",
            "linecolor": "white",
            "ticks": ""
           },
           "baxis": {
            "gridcolor": "white",
            "linecolor": "white",
            "ticks": ""
           },
           "bgcolor": "#E5ECF6",
           "caxis": {
            "gridcolor": "white",
            "linecolor": "white",
            "ticks": ""
           }
          },
          "title": {
           "x": 0.05
          },
          "xaxis": {
           "automargin": true,
           "gridcolor": "white",
           "linecolor": "white",
           "ticks": "",
           "title": {
            "standoff": 15
           },
           "zerolinecolor": "white",
           "zerolinewidth": 2
          },
          "yaxis": {
           "automargin": true,
           "gridcolor": "white",
           "linecolor": "white",
           "ticks": "",
           "title": {
            "standoff": 15
           },
           "zerolinecolor": "white",
           "zerolinewidth": 2
          }
         }
        },
        "title": {
         "text": "Sentiment Distribution"
        }
       }
      }
     },
     "metadata": {},
     "output_type": "display_data"
    }
   ],
   "source": [
    "\n",
    "# Create pie chart\n",
    "fig = create_sentiment_pie_chart(df_from_csv)\n",
    "fig.show()\n"
   ]
  },
  {
   "cell_type": "markdown",
   "id": "b12266cd",
   "metadata": {},
   "source": [
    "\n",
    "## Summary\n",
    "\n",
    "This notebook demonstrated how to:\n",
    "1. Load configuration from environment variables\n",
    "2. Fetch Bitcoin news articles\n",
    "3. Analyze sentiment on individual articles\n",
    "4. Process multiple articles and save results to CSV\n",
    "5. Read results back from CSV\n",
    "6. Visualize sentiment distribution\n",
    "\n",
    "The caching mechanism ensures that previously analyzed articles are not processed again, saving API tokens.\n"
   ]
  }
 ],
 "metadata": {
  "kernelspec": {
   "display_name": "llms-btc-env",
   "language": "python",
   "name": "python3"
  },
  "language_info": {
   "codemirror_mode": {
    "name": "ipython",
    "version": 3
   },
   "file_extension": ".py",
   "mimetype": "text/x-python",
   "name": "python",
   "nbconvert_exporter": "python",
   "pygments_lexer": "ipython3",
   "version": "3.11.11"
  }
 },
 "nbformat": 4,
 "nbformat_minor": 5
}
