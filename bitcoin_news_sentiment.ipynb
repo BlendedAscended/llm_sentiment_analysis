{
 "cells": [
  {
   "cell_type": "markdown",
   "id": "cd5140cd",
   "metadata": {},
   "source": [
    "# Bitcoin News Sentiment Analysis (LiteLLM, Modular, Table Display)\n",
    "\n",
    "This notebook fetches the latest Bitcoin news, analyzes sentiment using an LLM (via LiteLLM), and displays the results in a table.\n",
    "\n",
    "**Instructions:**\n",
    "- Make sure you have a `.env` file with your API keys (NEWS_API_KEY, OPENAI_API_KEY, etc).\n",
    "- Run the setup cell below to install dependencies.\n",
    "- You can change the LLM provider in the configuration cell."
   ]
  },
  {
   "cell_type": "code",
   "execution_count": 1,
   "id": "c36f5a7f",
   "metadata": {},
   "outputs": [
    {
     "name": "stdout",
     "output_type": "stream",
     "text": [
      "Note: you may need to restart the kernel to use updated packages.\n"
     ]
    }
   ],
   "source": [
    "%pip install -q litellm requests python-dotenv pandas tiktoken ipywidgets plotly"
   ]
  },
  {
   "cell_type": "markdown",
   "id": "6869f0aa",
   "metadata": {},
   "source": [
    "## Imports and Configuration"
   ]
  },
  {
   "cell_type": "code",
   "execution_count": 2,
   "id": "6c10a0ea",
   "metadata": {},
   "outputs": [],
   "source": [
    "import os\n",
    "import json\n",
    "import hashlib\n",
    "from datetime import datetime, timezone\n",
    "from pathlib import Path\n",
    "from typing import List, Dict, Optional\n",
    "from dataclasses import dataclass\n",
    "\n",
    "import requests\n",
    "import pandas as pd\n",
    "from dotenv import load_dotenv\n",
    "import tiktoken\n",
    "from litellm import completion\n",
    "\n",
    "# For table display\n",
    "from IPython.display import display, HTML\n",
    "import ipywidgets as widgets\n",
    "\n",
    "# For optional visualization\n",
    "import plotly.express as px"
   ]
  },
  {
   "cell_type": "markdown",
   "id": "ccf2ea49",
   "metadata": {},
   "source": [
    "### Load environment variables and set up config"
   ]
  },
  {
   "cell_type": "code",
   "execution_count": 3,
   "id": "a849fcfc",
   "metadata": {},
   "outputs": [],
   "source": [
    "load_dotenv()\n",
    "\n",
    "NEWS_API_KEY = os.getenv('NEWS_API_KEY')\n",
    "OPENAI_API_KEY = os.getenv('OPENAI_API_KEY')\n",
    "TOGETHER_API_KEY = os.getenv('TOGETHER_API_KEY')\n",
    "GOOGLE_API_KEY = os.getenv('GOOGLE_API_KEY')\n",
    "HUGGINGFACE_API_KEY = os.getenv('HUGGINGFACE_API_KEY')\n",
    "\n",
    "PROVIDER = 'together_ai'  # Change to 'openai', 'huggingface', etc.\n",
    "MODEL_ID = 'mistralai/Mixtral-8x7B-Instruct-v0.1'\n",
    "\n",
    "PROVIDER_CONFIGS = {\n",
    "    'together_ai': {\n",
    "        'model': 'together_ai/mistralai/Mixtral-8x7B-Instruct-v0.1',\n",
    "        'api_key': TOGETHER_API_KEY,\n",
    "    },\n",
    "    'openai': {\n",
    "        'model': 'gpt-3.5-turbo',\n",
    "        'api_key': OPENAI_API_KEY,\n",
    "    },\n",
    "    'huggingface': {\n",
    "        'model': 'huggingface/HuggingFaceH4/zephyr-7b-beta',\n",
    "        'api_key': HUGGINGFACE_API_KEY,\n",
    "    },\n",
    "    'gemini': {\n",
    "        'model': 'gemini-pro',\n",
    "        'api_key': GOOGLE_API_KEY,\n",
    "    }\n",
    "}\n",
    "\n",
    "PROMPT_TEMPLATE = (\n",
    "    \"You are a financial sentiment analyst.\\n\"\n",
    "    \"Classify the sentiment of the following Bitcoin news article as one of 'Positive', 'Neutral', or 'Negative'. Respond with ONLY the full word (not abbreviated).\\n\\n\"\n",
    "    \"Article: {text}\\n\\nSentiment:\"\n",
    ")"
   ]
  },
  {
   "cell_type": "markdown",
   "id": "2240a0b9",
   "metadata": {},
   "source": [
    "## Helper Functions"
   ]
  },
  {
   "cell_type": "code",
   "execution_count": 4,
   "id": "d5fb3c11",
   "metadata": {},
   "outputs": [],
   "source": [
    "def fetch_bitcoin_news(page_size: int = 10) -> List[Dict]:\n",
    "    url = 'https://newsapi.org/v2/everything'\n",
    "    params = {\n",
    "        'q': 'Bitcoin',\n",
    "        'language': 'en',\n",
    "        'sortBy': 'publishedAt',\n",
    "        'pageSize': page_size,\n",
    "        'apiKey': NEWS_API_KEY,\n",
    "    }\n",
    "    r = requests.get(url, params=params, timeout=15)\n",
    "    r.raise_for_status()\n",
    "    return r.json().get('articles', [])\n",
    "\n",
    "def count_tokens(text: str) -> int:\n",
    "    encoding = tiktoken.get_encoding('cl100k_base')\n",
    "    return len(encoding.encode(text))\n",
    "\n",
    "def truncate_text(text: str, max_tokens: int = 1000) -> str:\n",
    "    if count_tokens(text) <= max_tokens:\n",
    "        return text\n",
    "    sentences = text.split('. ')\n",
    "    truncated = []\n",
    "    current_tokens = 0\n",
    "    for sentence in sentences:\n",
    "        sentence_tokens = count_tokens(sentence)\n",
    "        if current_tokens + sentence_tokens <= max_tokens:\n",
    "            truncated.append(sentence)\n",
    "            current_tokens += sentence_tokens\n",
    "        else:\n",
    "            break\n",
    "    return '. '.join(truncated) + '.'\n",
    "\n",
    "def classify_sentiment(text: str, provider: str = PROVIDER) -> str:\n",
    "    truncated_text = truncate_text(text)\n",
    "    prompt = PROMPT_TEMPLATE.format(text=truncated_text.strip())\n",
    "    config = PROVIDER_CONFIGS[provider]\n",
    "    response = completion(\n",
    "        model=config['model'],\n",
    "        messages=[{'role': 'user', 'content': prompt}],\n",
    "        temperature=0,\n",
    "        max_tokens=1,\n",
    "        api_key=config.get('api_key'),\n",
    "    )\n",
    "    result = response.choices[0].message.content.strip().split()[0]\n",
    "    return result\n"
   ]
  },
  {
   "cell_type": "markdown",
   "id": "a884b555",
   "metadata": {},
   "source": [
    "## Run Sentiment Analysis on Latest News"
   ]
  },
  {
   "cell_type": "code",
   "execution_count": 5,
   "id": "fffc7eeb",
   "metadata": {},
   "outputs": [
    {
     "data": {
      "text/html": [
       "<div>\n",
       "<style scoped>\n",
       "    .dataframe tbody tr th:only-of-type {\n",
       "        vertical-align: middle;\n",
       "    }\n",
       "\n",
       "    .dataframe tbody tr th {\n",
       "        vertical-align: top;\n",
       "    }\n",
       "\n",
       "    .dataframe thead th {\n",
       "        text-align: right;\n",
       "    }\n",
       "</style>\n",
       "<table border=\"1\" class=\"dataframe\">\n",
       "  <thead>\n",
       "    <tr style=\"text-align: right;\">\n",
       "      <th></th>\n",
       "      <th>publishedAt</th>\n",
       "      <th>headline</th>\n",
       "      <th>sentiment</th>\n",
       "      <th>url</th>\n",
       "    </tr>\n",
       "  </thead>\n",
       "  <tbody>\n",
       "    <tr>\n",
       "      <th>0</th>\n",
       "      <td>2025-05-16 08:10:15+00:00</td>\n",
       "      <td>Refer-a-Friend and You BOTH get a $20 BTC Bonu...</td>\n",
       "      <td>Pos</td>\n",
       "      <td>https://www.ozbargain.com.au/node/906089</td>\n",
       "    </tr>\n",
       "    <tr>\n",
       "      <th>1</th>\n",
       "      <td>2025-05-16 08:07:00+00:00</td>\n",
       "      <td>Cetera Investment Advisers Decreases Holdings ...</td>\n",
       "      <td>Ne</td>\n",
       "      <td>https://www.etfdailynews.com/2025/05/16/cetera...</td>\n",
       "    </tr>\n",
       "    <tr>\n",
       "      <th>2</th>\n",
       "      <td>2025-05-16 08:00:53+00:00</td>\n",
       "      <td>Mercer Global Advisors Inc. ADV Takes $312,000...</td>\n",
       "      <td>Ne</td>\n",
       "      <td>https://www.etfdailynews.com/2025/05/16/mercer...</td>\n",
       "    </tr>\n",
       "    <tr>\n",
       "      <th>3</th>\n",
       "      <td>2025-05-16 08:00:49+00:00</td>\n",
       "      <td>Bitcoin Could See Short-Term Holder Selloff Ar...</td>\n",
       "      <td>Ne</td>\n",
       "      <td>http://www.newsbtc.com/bitcoin-news/bitcoin-sh...</td>\n",
       "    </tr>\n",
       "    <tr>\n",
       "      <th>4</th>\n",
       "      <td>2025-05-16 08:00:28+00:00</td>\n",
       "      <td>Monero: Will an 82% rally in 40 days help XMR ...</td>\n",
       "      <td>Ne</td>\n",
       "      <td>https://ambcrypto.com/monero-will-an-82-rally-...</td>\n",
       "    </tr>\n",
       "  </tbody>\n",
       "</table>\n",
       "</div>"
      ],
      "text/plain": [
       "                publishedAt  \\\n",
       "0 2025-05-16 08:10:15+00:00   \n",
       "1 2025-05-16 08:07:00+00:00   \n",
       "2 2025-05-16 08:00:53+00:00   \n",
       "3 2025-05-16 08:00:49+00:00   \n",
       "4 2025-05-16 08:00:28+00:00   \n",
       "\n",
       "                                            headline sentiment  \\\n",
       "0  Refer-a-Friend and You BOTH get a $20 BTC Bonu...       Pos   \n",
       "1  Cetera Investment Advisers Decreases Holdings ...        Ne   \n",
       "2  Mercer Global Advisors Inc. ADV Takes $312,000...        Ne   \n",
       "3  Bitcoin Could See Short-Term Holder Selloff Ar...        Ne   \n",
       "4  Monero: Will an 82% rally in 40 days help XMR ...        Ne   \n",
       "\n",
       "                                                 url  \n",
       "0           https://www.ozbargain.com.au/node/906089  \n",
       "1  https://www.etfdailynews.com/2025/05/16/cetera...  \n",
       "2  https://www.etfdailynews.com/2025/05/16/mercer...  \n",
       "3  http://www.newsbtc.com/bitcoin-news/bitcoin-sh...  \n",
       "4  https://ambcrypto.com/monero-will-an-82-rally-...  "
      ]
     },
     "execution_count": 5,
     "metadata": {},
     "output_type": "execute_result"
    }
   ],
   "source": [
    "articles = fetch_bitcoin_news(page_size=10)\n",
    "rows = []\n",
    "for art in articles:\n",
    "    headline = art.get('title', '').strip()\n",
    "    content = art.get('description', '') or art.get('content', '')\n",
    "    if not content:\n",
    "        continue\n",
    "    sentiment = classify_sentiment(content)\n",
    "    rows.append({\n",
    "        'publishedAt': art.get('publishedAt'),\n",
    "        'headline': headline,\n",
    "        'sentiment': sentiment,\n",
    "        'url': art.get('url'),\n",
    "    })\n",
    "df = pd.DataFrame(rows)\n",
    "df['publishedAt'] = pd.to_datetime(df['publishedAt'])\n",
    "df = df.sort_values('publishedAt', ascending=False)\n",
    "df.reset_index(drop=True, inplace=True)\n",
    "df.head()"
   ]
  },
  {
   "cell_type": "markdown",
   "id": "855655ba",
   "metadata": {},
   "source": [
    "## Display Results as Interactive Table"
   ]
  },
  {
   "cell_type": "code",
   "execution_count": 6,
   "id": "dcfa2196",
   "metadata": {},
   "outputs": [
    {
     "data": {
      "text/html": [
       "<table border=\"1\" class=\"dataframe\">\n",
       "  <thead>\n",
       "    <tr style=\"text-align: right;\">\n",
       "      <th>publishedAt</th>\n",
       "      <th>headline</th>\n",
       "      <th>sentiment</th>\n",
       "      <th>url</th>\n",
       "    </tr>\n",
       "  </thead>\n",
       "  <tbody>\n",
       "    <tr>\n",
       "      <td>2025-05-16 08:10:15+00:00</td>\n",
       "      <td>Refer-a-Friend and You BOTH get a $20 BTC Bonus (Plus BOTH get $5 in Reward Points) @ Coinjar</td>\n",
       "      <td>Pos</td>\n",
       "      <td><a href=\"https://www.ozbargain.com.au/node/906089\" target=\"_blank\">Link</a></td>\n",
       "    </tr>\n",
       "    <tr>\n",
       "      <td>2025-05-16 08:07:00+00:00</td>\n",
       "      <td>Cetera Investment Advisers Decreases Holdings in MARA Holdings, Inc. (NASDAQ:MARA)</td>\n",
       "      <td>Ne</td>\n",
       "      <td><a href=\"https://www.etfdailynews.com/2025/05/16/cetera-investment-advisers-decreases-holdings-in-mara-holdings-inc-nasdaqmara/\" target=\"_blank\">Link</a></td>\n",
       "    </tr>\n",
       "    <tr>\n",
       "      <td>2025-05-16 08:00:53+00:00</td>\n",
       "      <td>Mercer Global Advisors Inc. ADV Takes $312,000 Position in Bitwise Bitcoin ETF (NYSEARCA:BITB)</td>\n",
       "      <td>Ne</td>\n",
       "      <td><a href=\"https://www.etfdailynews.com/2025/05/16/mercer-global-advisors-inc-adv-takes-312000-position-in-bitwise-bitcoin-etf-nysearcabitb/\" target=\"_blank\">Link</a></td>\n",
       "    </tr>\n",
       "    <tr>\n",
       "      <td>2025-05-16 08:00:49+00:00</td>\n",
       "      <td>Bitcoin Could See Short-Term Holder Selloff Around These Levels, Analyst Says</td>\n",
       "      <td>Ne</td>\n",
       "      <td><a href=\"http://www.newsbtc.com/bitcoin-news/bitcoin-short-term-holder-selloff-levels-analyst/\" target=\"_blank\">Link</a></td>\n",
       "    </tr>\n",
       "    <tr>\n",
       "      <td>2025-05-16 08:00:28+00:00</td>\n",
       "      <td>Monero: Will an 82% rally in 40 days help XMR reach $489?</td>\n",
       "      <td>Ne</td>\n",
       "      <td><a href=\"https://ambcrypto.com/monero-will-an-82-rally-in-40-days-help-xmr-reach-489/\" target=\"_blank\">Link</a></td>\n",
       "    </tr>\n",
       "    <tr>\n",
       "      <td>2025-05-16 07:56:47+00:00</td>\n",
       "      <td>Bitcoin hitting $220K 'reasonable' in 2025 says gold-based forecast</td>\n",
       "      <td>Pos</td>\n",
       "      <td><a href=\"https://cointelegraph.com/news/bitcoin-hitting-220k-reasonable-in-2025-gold-based-forecast\" target=\"_blank\">Link</a></td>\n",
       "    </tr>\n",
       "    <tr>\n",
       "      <td>2025-05-16 07:49:05+00:00</td>\n",
       "      <td>Mercer Global Advisors Inc. ADV Makes New $293,000 Investment in CompoSecure, Inc. (NASDAQ:CMPO)</td>\n",
       "      <td>Ne</td>\n",
       "      <td><a href=\"https://www.etfdailynews.com/2025/05/16/mercer-global-advisors-inc-adv-makes-new-293000-investment-in-composecure-inc-nasdaqcmpo/\" target=\"_blank\">Link</a></td>\n",
       "    </tr>\n",
       "    <tr>\n",
       "      <td>2025-05-16 07:48:38+00:00</td>\n",
       "      <td>Bitcoin Bulls Face $120M Challenge in Extending 'Stair-Step' Uptrend</td>\n",
       "      <td>Pos</td>\n",
       "      <td><a href=\"https://www.coindesk.com/markets/2025/05/16/bitcoin-bulls-face-usd120m-challenge-in-extending-stair-step-uptrend\" target=\"_blank\">Link</a></td>\n",
       "    </tr>\n",
       "    <tr>\n",
       "      <td>2025-05-16 07:43:20+00:00</td>\n",
       "      <td>Comerica Bank Sells 439 Shares of Grayscale Bitcoin Trust (NYSEARCA:GBTC)</td>\n",
       "      <td>Ne</td>\n",
       "      <td><a href=\"https://www.etfdailynews.com/2025/05/16/comerica-bank-sells-439-shares-of-grayscale-bitcoin-trust-nysearcagbtc/\" target=\"_blank\">Link</a></td>\n",
       "    </tr>\n",
       "    <tr>\n",
       "      <td>2025-05-16 07:41:26+00:00</td>\n",
       "      <td>Ukraine Strategic Bitcoin Reserve Bill Reportedly In Final Stages</td>\n",
       "      <td>Pos</td>\n",
       "      <td><a href=\"https://biztoc.com/x/4a8f94779ba20861\" target=\"_blank\">Link</a></td>\n",
       "    </tr>\n",
       "  </tbody>\n",
       "</table>"
      ],
      "text/plain": [
       "<IPython.core.display.HTML object>"
      ]
     },
     "metadata": {},
     "output_type": "display_data"
    }
   ],
   "source": [
    "def make_clickable(val):\n",
    "    return f'<a href=\"{val}\" target=\"_blank\">Link</a>' if pd.notnull(val) else ''\n",
    "\n",
    "display(HTML(df.to_html(escape=False, formatters={'url': make_clickable}, index=False)))"
   ]
  },
  {
   "cell_type": "markdown",
   "id": "f5c4197d",
   "metadata": {},
   "source": [
    "## Optional: Visualize Sentiment Distribution"
   ]
  },
  {
   "cell_type": "code",
   "execution_count": 7,
   "id": "b69d6b7f",
   "metadata": {},
   "outputs": [
    {
     "data": {
      "application/vnd.plotly.v1+json": {
       "config": {
        "plotlyServerURL": "https://plot.ly"
       },
       "data": [
        {
         "bingroup": "x",
         "hovertemplate": "sentiment=%{x}<br>count=%{y}<extra></extra>",
         "legendgroup": "Pos",
         "marker": {
          "color": "#636efa",
          "pattern": {
           "shape": ""
          }
         },
         "name": "Pos",
         "orientation": "v",
         "showlegend": true,
         "type": "histogram",
         "x": [
          "Pos",
          "Pos",
          "Pos",
          "Pos"
         ],
         "xaxis": "x",
         "yaxis": "y"
        },
        {
         "bingroup": "x",
         "hovertemplate": "sentiment=%{x}<br>count=%{y}<extra></extra>",
         "legendgroup": "Ne",
         "marker": {
          "color": "#EF553B",
          "pattern": {
           "shape": ""
          }
         },
         "name": "Ne",
         "orientation": "v",
         "showlegend": true,
         "type": "histogram",
         "x": [
          "Ne",
          "Ne",
          "Ne",
          "Ne",
          "Ne",
          "Ne"
         ],
         "xaxis": "x",
         "yaxis": "y"
        }
       ],
       "layout": {
        "barmode": "relative",
        "legend": {
         "title": {
          "text": "sentiment"
         },
         "tracegroupgap": 0
        },
        "template": {
         "data": {
          "bar": [
           {
            "error_x": {
             "color": "#2a3f5f"
            },
            "error_y": {
             "color": "#2a3f5f"
            },
            "marker": {
             "line": {
              "color": "#E5ECF6",
              "width": 0.5
             },
             "pattern": {
              "fillmode": "overlay",
              "size": 10,
              "solidity": 0.2
             }
            },
            "type": "bar"
           }
          ],
          "barpolar": [
           {
            "marker": {
             "line": {
              "color": "#E5ECF6",
              "width": 0.5
             },
             "pattern": {
              "fillmode": "overlay",
              "size": 10,
              "solidity": 0.2
             }
            },
            "type": "barpolar"
           }
          ],
          "carpet": [
           {
            "aaxis": {
             "endlinecolor": "#2a3f5f",
             "gridcolor": "white",
             "linecolor": "white",
             "minorgridcolor": "white",
             "startlinecolor": "#2a3f5f"
            },
            "baxis": {
             "endlinecolor": "#2a3f5f",
             "gridcolor": "white",
             "linecolor": "white",
             "minorgridcolor": "white",
             "startlinecolor": "#2a3f5f"
            },
            "type": "carpet"
           }
          ],
          "choropleth": [
           {
            "colorbar": {
             "outlinewidth": 0,
             "ticks": ""
            },
            "type": "choropleth"
           }
          ],
          "contour": [
           {
            "colorbar": {
             "outlinewidth": 0,
             "ticks": ""
            },
            "colorscale": [
             [
              0,
              "#0d0887"
             ],
             [
              0.1111111111111111,
              "#46039f"
             ],
             [
              0.2222222222222222,
              "#7201a8"
             ],
             [
              0.3333333333333333,
              "#9c179e"
             ],
             [
              0.4444444444444444,
              "#bd3786"
             ],
             [
              0.5555555555555556,
              "#d8576b"
             ],
             [
              0.6666666666666666,
              "#ed7953"
             ],
             [
              0.7777777777777778,
              "#fb9f3a"
             ],
             [
              0.8888888888888888,
              "#fdca26"
             ],
             [
              1,
              "#f0f921"
             ]
            ],
            "type": "contour"
           }
          ],
          "contourcarpet": [
           {
            "colorbar": {
             "outlinewidth": 0,
             "ticks": ""
            },
            "type": "contourcarpet"
           }
          ],
          "heatmap": [
           {
            "colorbar": {
             "outlinewidth": 0,
             "ticks": ""
            },
            "colorscale": [
             [
              0,
              "#0d0887"
             ],
             [
              0.1111111111111111,
              "#46039f"
             ],
             [
              0.2222222222222222,
              "#7201a8"
             ],
             [
              0.3333333333333333,
              "#9c179e"
             ],
             [
              0.4444444444444444,
              "#bd3786"
             ],
             [
              0.5555555555555556,
              "#d8576b"
             ],
             [
              0.6666666666666666,
              "#ed7953"
             ],
             [
              0.7777777777777778,
              "#fb9f3a"
             ],
             [
              0.8888888888888888,
              "#fdca26"
             ],
             [
              1,
              "#f0f921"
             ]
            ],
            "type": "heatmap"
           }
          ],
          "histogram": [
           {
            "marker": {
             "pattern": {
              "fillmode": "overlay",
              "size": 10,
              "solidity": 0.2
             }
            },
            "type": "histogram"
           }
          ],
          "histogram2d": [
           {
            "colorbar": {
             "outlinewidth": 0,
             "ticks": ""
            },
            "colorscale": [
             [
              0,
              "#0d0887"
             ],
             [
              0.1111111111111111,
              "#46039f"
             ],
             [
              0.2222222222222222,
              "#7201a8"
             ],
             [
              0.3333333333333333,
              "#9c179e"
             ],
             [
              0.4444444444444444,
              "#bd3786"
             ],
             [
              0.5555555555555556,
              "#d8576b"
             ],
             [
              0.6666666666666666,
              "#ed7953"
             ],
             [
              0.7777777777777778,
              "#fb9f3a"
             ],
             [
              0.8888888888888888,
              "#fdca26"
             ],
             [
              1,
              "#f0f921"
             ]
            ],
            "type": "histogram2d"
           }
          ],
          "histogram2dcontour": [
           {
            "colorbar": {
             "outlinewidth": 0,
             "ticks": ""
            },
            "colorscale": [
             [
              0,
              "#0d0887"
             ],
             [
              0.1111111111111111,
              "#46039f"
             ],
             [
              0.2222222222222222,
              "#7201a8"
             ],
             [
              0.3333333333333333,
              "#9c179e"
             ],
             [
              0.4444444444444444,
              "#bd3786"
             ],
             [
              0.5555555555555556,
              "#d8576b"
             ],
             [
              0.6666666666666666,
              "#ed7953"
             ],
             [
              0.7777777777777778,
              "#fb9f3a"
             ],
             [
              0.8888888888888888,
              "#fdca26"
             ],
             [
              1,
              "#f0f921"
             ]
            ],
            "type": "histogram2dcontour"
           }
          ],
          "mesh3d": [
           {
            "colorbar": {
             "outlinewidth": 0,
             "ticks": ""
            },
            "type": "mesh3d"
           }
          ],
          "parcoords": [
           {
            "line": {
             "colorbar": {
              "outlinewidth": 0,
              "ticks": ""
             }
            },
            "type": "parcoords"
           }
          ],
          "pie": [
           {
            "automargin": true,
            "type": "pie"
           }
          ],
          "scatter": [
           {
            "fillpattern": {
             "fillmode": "overlay",
             "size": 10,
             "solidity": 0.2
            },
            "type": "scatter"
           }
          ],
          "scatter3d": [
           {
            "line": {
             "colorbar": {
              "outlinewidth": 0,
              "ticks": ""
             }
            },
            "marker": {
             "colorbar": {
              "outlinewidth": 0,
              "ticks": ""
             }
            },
            "type": "scatter3d"
           }
          ],
          "scattercarpet": [
           {
            "marker": {
             "colorbar": {
              "outlinewidth": 0,
              "ticks": ""
             }
            },
            "type": "scattercarpet"
           }
          ],
          "scattergeo": [
           {
            "marker": {
             "colorbar": {
              "outlinewidth": 0,
              "ticks": ""
             }
            },
            "type": "scattergeo"
           }
          ],
          "scattergl": [
           {
            "marker": {
             "colorbar": {
              "outlinewidth": 0,
              "ticks": ""
             }
            },
            "type": "scattergl"
           }
          ],
          "scattermap": [
           {
            "marker": {
             "colorbar": {
              "outlinewidth": 0,
              "ticks": ""
             }
            },
            "type": "scattermap"
           }
          ],
          "scattermapbox": [
           {
            "marker": {
             "colorbar": {
              "outlinewidth": 0,
              "ticks": ""
             }
            },
            "type": "scattermapbox"
           }
          ],
          "scatterpolar": [
           {
            "marker": {
             "colorbar": {
              "outlinewidth": 0,
              "ticks": ""
             }
            },
            "type": "scatterpolar"
           }
          ],
          "scatterpolargl": [
           {
            "marker": {
             "colorbar": {
              "outlinewidth": 0,
              "ticks": ""
             }
            },
            "type": "scatterpolargl"
           }
          ],
          "scatterternary": [
           {
            "marker": {
             "colorbar": {
              "outlinewidth": 0,
              "ticks": ""
             }
            },
            "type": "scatterternary"
           }
          ],
          "surface": [
           {
            "colorbar": {
             "outlinewidth": 0,
             "ticks": ""
            },
            "colorscale": [
             [
              0,
              "#0d0887"
             ],
             [
              0.1111111111111111,
              "#46039f"
             ],
             [
              0.2222222222222222,
              "#7201a8"
             ],
             [
              0.3333333333333333,
              "#9c179e"
             ],
             [
              0.4444444444444444,
              "#bd3786"
             ],
             [
              0.5555555555555556,
              "#d8576b"
             ],
             [
              0.6666666666666666,
              "#ed7953"
             ],
             [
              0.7777777777777778,
              "#fb9f3a"
             ],
             [
              0.8888888888888888,
              "#fdca26"
             ],
             [
              1,
              "#f0f921"
             ]
            ],
            "type": "surface"
           }
          ],
          "table": [
           {
            "cells": {
             "fill": {
              "color": "#EBF0F8"
             },
             "line": {
              "color": "white"
             }
            },
            "header": {
             "fill": {
              "color": "#C8D4E3"
             },
             "line": {
              "color": "white"
             }
            },
            "type": "table"
           }
          ]
         },
         "layout": {
          "annotationdefaults": {
           "arrowcolor": "#2a3f5f",
           "arrowhead": 0,
           "arrowwidth": 1
          },
          "autotypenumbers": "strict",
          "coloraxis": {
           "colorbar": {
            "outlinewidth": 0,
            "ticks": ""
           }
          },
          "colorscale": {
           "diverging": [
            [
             0,
             "#8e0152"
            ],
            [
             0.1,
             "#c51b7d"
            ],
            [
             0.2,
             "#de77ae"
            ],
            [
             0.3,
             "#f1b6da"
            ],
            [
             0.4,
             "#fde0ef"
            ],
            [
             0.5,
             "#f7f7f7"
            ],
            [
             0.6,
             "#e6f5d0"
            ],
            [
             0.7,
             "#b8e186"
            ],
            [
             0.8,
             "#7fbc41"
            ],
            [
             0.9,
             "#4d9221"
            ],
            [
             1,
             "#276419"
            ]
           ],
           "sequential": [
            [
             0,
             "#0d0887"
            ],
            [
             0.1111111111111111,
             "#46039f"
            ],
            [
             0.2222222222222222,
             "#7201a8"
            ],
            [
             0.3333333333333333,
             "#9c179e"
            ],
            [
             0.4444444444444444,
             "#bd3786"
            ],
            [
             0.5555555555555556,
             "#d8576b"
            ],
            [
             0.6666666666666666,
             "#ed7953"
            ],
            [
             0.7777777777777778,
             "#fb9f3a"
            ],
            [
             0.8888888888888888,
             "#fdca26"
            ],
            [
             1,
             "#f0f921"
            ]
           ],
           "sequentialminus": [
            [
             0,
             "#0d0887"
            ],
            [
             0.1111111111111111,
             "#46039f"
            ],
            [
             0.2222222222222222,
             "#7201a8"
            ],
            [
             0.3333333333333333,
             "#9c179e"
            ],
            [
             0.4444444444444444,
             "#bd3786"
            ],
            [
             0.5555555555555556,
             "#d8576b"
            ],
            [
             0.6666666666666666,
             "#ed7953"
            ],
            [
             0.7777777777777778,
             "#fb9f3a"
            ],
            [
             0.8888888888888888,
             "#fdca26"
            ],
            [
             1,
             "#f0f921"
            ]
           ]
          },
          "colorway": [
           "#636efa",
           "#EF553B",
           "#00cc96",
           "#ab63fa",
           "#FFA15A",
           "#19d3f3",
           "#FF6692",
           "#B6E880",
           "#FF97FF",
           "#FECB52"
          ],
          "font": {
           "color": "#2a3f5f"
          },
          "geo": {
           "bgcolor": "white",
           "lakecolor": "white",
           "landcolor": "#E5ECF6",
           "showlakes": true,
           "showland": true,
           "subunitcolor": "white"
          },
          "hoverlabel": {
           "align": "left"
          },
          "hovermode": "closest",
          "mapbox": {
           "style": "light"
          },
          "paper_bgcolor": "white",
          "plot_bgcolor": "#E5ECF6",
          "polar": {
           "angularaxis": {
            "gridcolor": "white",
            "linecolor": "white",
            "ticks": ""
           },
           "bgcolor": "#E5ECF6",
           "radialaxis": {
            "gridcolor": "white",
            "linecolor": "white",
            "ticks": ""
           }
          },
          "scene": {
           "xaxis": {
            "backgroundcolor": "#E5ECF6",
            "gridcolor": "white",
            "gridwidth": 2,
            "linecolor": "white",
            "showbackground": true,
            "ticks": "",
            "zerolinecolor": "white"
           },
           "yaxis": {
            "backgroundcolor": "#E5ECF6",
            "gridcolor": "white",
            "gridwidth": 2,
            "linecolor": "white",
            "showbackground": true,
            "ticks": "",
            "zerolinecolor": "white"
           },
           "zaxis": {
            "backgroundcolor": "#E5ECF6",
            "gridcolor": "white",
            "gridwidth": 2,
            "linecolor": "white",
            "showbackground": true,
            "ticks": "",
            "zerolinecolor": "white"
           }
          },
          "shapedefaults": {
           "line": {
            "color": "#2a3f5f"
           }
          },
          "ternary": {
           "aaxis": {
            "gridcolor": "white",
            "linecolor": "white",
            "ticks": ""
           },
           "baxis": {
            "gridcolor": "white",
            "linecolor": "white",
            "ticks": ""
           },
           "bgcolor": "#E5ECF6",
           "caxis": {
            "gridcolor": "white",
            "linecolor": "white",
            "ticks": ""
           }
          },
          "title": {
           "x": 0.05
          },
          "xaxis": {
           "automargin": true,
           "gridcolor": "white",
           "linecolor": "white",
           "ticks": "",
           "title": {
            "standoff": 15
           },
           "zerolinecolor": "white",
           "zerolinewidth": 2
          },
          "yaxis": {
           "automargin": true,
           "gridcolor": "white",
           "linecolor": "white",
           "ticks": "",
           "title": {
            "standoff": 15
           },
           "zerolinecolor": "white",
           "zerolinewidth": 2
          }
         }
        },
        "title": {
         "text": "Sentiment Distribution"
        },
        "xaxis": {
         "anchor": "y",
         "categoryarray": [
          "Pos",
          "Ne"
         ],
         "categoryorder": "array",
         "domain": [
          0,
          1
         ],
         "title": {
          "text": "sentiment"
         }
        },
        "yaxis": {
         "anchor": "x",
         "domain": [
          0,
          1
         ],
         "title": {
          "text": "count"
         }
        }
       }
      }
     },
     "metadata": {},
     "output_type": "display_data"
    }
   ],
   "source": [
    "fig = px.histogram(df, x='sentiment', color='sentiment', title='Sentiment Distribution')\n",
    "fig.show()"
   ]
  }
 ],
 "metadata": {
  "kernelspec": {
   "display_name": "llms-btc-env",
   "language": "python",
   "name": "python3"
  },
  "language_info": {
   "codemirror_mode": {
    "name": "ipython",
    "version": 3
   },
   "file_extension": ".py",
   "mimetype": "text/x-python",
   "name": "python",
   "nbconvert_exporter": "python",
   "pygments_lexer": "ipython3",
   "version": "3.11.11"
  }
 },
 "nbformat": 4,
 "nbformat_minor": 5
}
