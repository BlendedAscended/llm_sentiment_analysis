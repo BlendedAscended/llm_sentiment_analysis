{
 "cells": [
  {
   "cell_type": "markdown",
   "id": "cd5140cd",
   "metadata": {},
   "source": [
    "# Bitcoin News Sentiment Analysis (LiteLLM, Modular, Table Display)\n",
    "\n",
    "This notebook fetches the latest Bitcoin news, analyzes sentiment using an LLM (via LiteLLM), and displays the results in a table.\n",
    "\n",
    "**Instructions:**\n",
    "- Make sure you have a `.env` file with your API keys (NEWS_API_KEY, OPENAI_API_KEY, etc).\n",
    "- Run the setup cell below to install dependencies.\n",
    "- You can change the LLM provider in the configuration cell."
   ]
  },
  {
   "cell_type": "code",
   "execution_count": null,
   "id": "c36f5a7f",
   "metadata": {},
   "outputs": [],
   "source": [
    "!pip install -q litellm requests python-dotenv pandas tiktoken ipywidgets plotly"
   ]
  },
  {
   "cell_type": "markdown",
   "id": "6869f0aa",
   "metadata": {},
   "source": [
    "## Imports and Configuration"
   ]
  },
  {
   "cell_type": "code",
   "execution_count": null,
   "id": "6c10a0ea",
   "metadata": {},
   "outputs": [],
   "source": [
    "import os\n",
    "import json\n",
    "import hashlib\n",
    "from datetime import datetime, timezone\n",
    "from pathlib import Path\n",
    "from typing import List, Dict, Optional\n",
    "from dataclasses import dataclass\n",
    "\n",
    "import requests\n",
    "import pandas as pd\n",
    "from dotenv import load_dotenv\n",
    "import tiktoken\n",
    "from litellm import completion\n",
    "\n",
    "# For table display\n",
    "from IPython.display import display, HTML\n",
    "import ipywidgets as widgets\n",
    "\n",
    "# For optional visualization\n",
    "import plotly.express as px"
   ]
  },
  {
   "cell_type": "markdown",
   "id": "ccf2ea49",
   "metadata": {},
   "source": [
    "### Load environment variables and set up config"
   ]
  },
  {
   "cell_type": "code",
   "execution_count": null,
   "id": "a849fcfc",
   "metadata": {},
   "outputs": [],
   "source": [
    "load_dotenv()\n",
    "\n",
    "NEWS_API_KEY = os.getenv('NEWS_API_KEY')\n",
    "OPENAI_API_KEY = os.getenv('OPENAI_API_KEY')\n",
    "TOGETHER_API_KEY = os.getenv('TOGETHER_API_KEY')\n",
    "GOOGLE_API_KEY = os.getenv('GOOGLE_API_KEY')\n",
    "HUGGINGFACE_API_KEY = os.getenv('HUGGINGFACE_API_KEY')\n",
    "\n",
    "PROVIDER = 'together_ai'  # Change to 'openai', 'huggingface', etc.\n",
    "MODEL_ID = 'mistralai/Mixtral-8x7B-Instruct-v0.1'\n",
    "\n",
    "PROVIDER_CONFIGS = {\n",
    "    'together_ai': {\n",
    "        'model': 'together_ai/mistralai/Mixtral-8x7B-Instruct-v0.1',\n",
    "        'api_key': TOGETHER_API_KEY,\n",
    "    },\n",
    "    'openai': {\n",
    "        'model': 'gpt-3.5-turbo',\n",
    "        'api_key': OPENAI_API_KEY,\n",
    "    },\n",
    "    'huggingface': {\n",
    "        'model': 'huggingface/HuggingFaceH4/zephyr-7b-beta',\n",
    "        'api_key': HUGGINGFACE_API_KEY,\n",
    "    },\n",
    "    'gemini': {\n",
    "        'model': 'gemini-pro',\n",
    "        'api_key': GOOGLE_API_KEY,\n",
    "    }\n",
    "}\n",
    "\n",
    "PROMPT_TEMPLATE = (\n",
    "    \"You are a financial sentiment analyst.\\n\"\n",
    "    \"Classify the sentiment of the following Bitcoin news article as one of 'Positive', 'Neutral', or 'Negative'. Respond with ONLY the full word (not abbreviated).\\n\\n\"\n",
    "    \"Article: {text}\\n\\nSentiment:\"\n",
    ")"
   ]
  },
  {
   "cell_type": "markdown",
   "id": "2240a0b9",
   "metadata": {},
   "source": [
    "## Helper Functions"
   ]
  },
  {
   "cell_type": "code",
   "execution_count": null,
   "id": "d5fb3c11",
   "metadata": {},
   "outputs": [],
   "source": [
    "def fetch_bitcoin_news(page_size: int = 10) -> List[Dict]:\n",
    "    url = 'https://newsapi.org/v2/everything'\n",
    "    params = {\n",
    "        'q': 'Bitcoin',\n",
    "        'language': 'en',\n",
    "        'sortBy': 'publishedAt',\n",
    "        'pageSize': page_size,\n",
    "        'apiKey': NEWS_API_KEY,\n",
    "    }\n",
    "    r = requests.get(url, params=params, timeout=15)\n",
    "    r.raise_for_status()\n",
    "    return r.json().get('articles', [])\n",
    "\n",
    "def count_tokens(text: str) -> int:\n",
    "    encoding = tiktoken.get_encoding('cl100k_base')\n",
    "    return len(encoding.encode(text))\n",
    "\n",
    "def truncate_text(text: str, max_tokens: int = 1000) -> str:\n",
    "    if count_tokens(text) <= max_tokens:\n",
    "        return text\n",
    "    sentences = text.split('. ')\n",
    "    truncated = []\n",
    "    current_tokens = 0\n",
    "    for sentence in sentences:\n",
    "        sentence_tokens = count_tokens(sentence)\n",
    "        if current_tokens + sentence_tokens <= max_tokens:\n",
    "            truncated.append(sentence)\n",
    "            current_tokens += sentence_tokens\n",
    "        else:\n",
    "            break\n",
    "    return '. '.join(truncated) + '.'\n",
    "\n",
    "def classify_sentiment(text: str, provider: str = PROVIDER) -> str:\n",
    "    truncated_text = truncate_text(text)\n",
    "    prompt = PROMPT_TEMPLATE.format(text=truncated_text.strip())\n",
    "    config = PROVIDER_CONFIGS[provider]\n",
    "    response = completion(\n",
    "        model=config['model'],\n",
    "        messages=[{'role': 'user', 'content': prompt}],\n",
    "        temperature=0,\n",
    "        max_tokens=1,\n",
    "        api_key=config.get('api_key'),\n",
    "    )\n",
    "    result = response.choices[0].message.content.strip().split()[0]\n",
    "    return result\n"
   ]
  },
  {
   "cell_type": "markdown",
   "id": "a884b555",
   "metadata": {},
   "source": [
    "## Run Sentiment Analysis on Latest News"
   ]
  },
  {
   "cell_type": "code",
   "execution_count": null,
   "id": "fffc7eeb",
   "metadata": {},
   "outputs": [],
   "source": [
    "articles = fetch_bitcoin_news(page_size=10)\n",
    "rows = []\n",
    "for art in articles:\n",
    "    headline = art.get('title', '').strip()\n",
    "    content = art.get('description', '') or art.get('content', '')\n",
    "    if not content:\n",
    "        continue\n",
    "    sentiment = classify_sentiment(content)\n",
    "    rows.append({\n",
    "        'publishedAt': art.get('publishedAt'),\n",
    "        'headline': headline,\n",
    "        'sentiment': sentiment,\n",
    "        'url': art.get('url'),\n",
    "    })\n",
    "df = pd.DataFrame(rows)\n",
    "df['publishedAt'] = pd.to_datetime(df['publishedAt'])\n",
    "df = df.sort_values('publishedAt', ascending=False)\n",
    "df.reset_index(drop=True, inplace=True)\n",
    "df.head()"
   ]
  },
  {
   "cell_type": "markdown",
   "id": "855655ba",
   "metadata": {},
   "source": [
    "## Display Results as Interactive Table"
   ]
  },
  {
   "cell_type": "code",
   "execution_count": null,
   "id": "dcfa2196",
   "metadata": {},
   "outputs": [],
   "source": [
    "def make_clickable(val):\n",
    "    return f'<a href=\"{val}\" target=\"_blank\">Link</a>' if pd.notnull(val) else ''\n",
    "\n",
    "display(HTML(df.to_html(escape=False, formatters={'url': make_clickable}, index=False)))"
   ]
  },
  {
   "cell_type": "markdown",
   "id": "f5c4197d",
   "metadata": {},
   "source": [
    "## Optional: Visualize Sentiment Distribution"
   ]
  },
  {
   "cell_type": "code",
   "execution_count": null,
   "id": "b69d6b7f",
   "metadata": {},
   "outputs": [],
   "source": [
    "fig = px.histogram(df, x='sentiment', color='sentiment', title='Sentiment Distribution')\n",
    "fig.show()"
   ]
  }
 ],
 "metadata": {},
 "nbformat": 4,
 "nbformat_minor": 5
}
