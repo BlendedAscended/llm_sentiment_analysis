{
 "cells": [
  {
   "cell_type": "markdown",
   "metadata": {},
   "source": [
    "# Bitcoin News Sentiment Analysis Example\n",
    "\n",
    "This notebook demonstrates an end-to-end workflow for analyzing Bitcoin news sentiment, visualizing the results, and customizing the analysis for different cryptocurrencies.\n",
    "\n",
    "## Overview\n",
    "\n",
    "This example shows how to:\n",
    "1. Configure API keys and providers\n",
    "2. Fetch Bitcoin news articles\n",
    "3. Analyze sentiment using different LLM providers\n",
    "4. Visualize sentiment trends\n",
    "5. Export results to CSV\n",
    "6. Customize for different cryptocurrencies"
   ]
  },
  {
   "cell_type": "markdown",
   "metadata": {},
   "source": [
    "## 1. Setup and Installation\n",
    "\n",
    "First, install the required packages:"
   ]
  },
  {
   "cell_type": "code",
   "execution_count": 41,
   "metadata": {},
   "outputs": [
    {
     "name": "stdout",
     "output_type": "stream",
     "text": [
      "Note: you may need to restart the kernel to use updated packages.\n"
     ]
    }
   ],
   "source": [
    "# Install required packages\n",
    "%pip install -q pandas matplotlib plotly requests python-dotenv litellm tiktoken"
   ]
  },
  {
   "cell_type": "markdown",
   "metadata": {},
   "source": [
    "## 2. Configuration\n",
    "\n",
    "Set up environment variables and configuration. For this example, we need:\n",
    "- NEWS_API_KEY (required)\n",
    "- At least one LLM provider API key (OPENAI_API_KEY, TOGETHER_API_KEY, etc.)"
   ]
  },
  {
   "cell_type": "code",
   "execution_count": 42,
   "metadata": {},
   "outputs": [
    {
     "name": "stdout",
     "output_type": "stream",
     "text": [
      "✅ API keys loaded successfully\n"
     ]
    }
   ],
   "source": [
    "import os\n",
    "import pandas as pd\n",
    "import matplotlib.pyplot as plt\n",
    "import plotly.express as px\n",
    "import plotly.graph_objects as go\n",
    "from plotly.subplots import make_subplots\n",
    "from pathlib import Path\n",
    "from dotenv import load_dotenv\n",
    "import json\n",
    "from datetime import datetime, timedelta\n",
    "import numpy as np\n",
    "import random\n",
    "\n",
    "# Create data directory if it doesn't exist\n",
    "data_dir = Path.cwd() / \"data\"\n",
    "data_dir.mkdir(exist_ok=True)\n",
    "\n",
    "# Load environment variables\n",
    "load_dotenv()\n",
    "\n",
    "# Check if we have the required API key\n",
    "if not os.getenv(\"NEWS_API_KEY\"):\n",
    "    print(\"⚠️ WARNING: NEWS_API_KEY not found in .env file\")\n",
    "    print(\"You should create a .env file with your API keys:\")\n",
    "    print(\"NEWS_API_KEY=your_newsapi_key\")\n",
    "    print(\"OPENAI_API_KEY=your_openai_key  # optional\")\n",
    "    print(\"TOGETHER_API_KEY=your_together_key  # optional\")\n",
    "    # For demo purposes, we'll skip the API calls and work with sample data\n",
    "    DEMO_MODE = True\n",
    "else:\n",
    "    DEMO_MODE = False\n",
    "    print(\"✅ API keys loaded successfully\")"
   ]
  },
  {
   "cell_type": "markdown",
   "metadata": {},
   "source": [
    "## 3. Import Utilities\n",
    "\n",
    "Now let's import the utility functions from `bitcoin_utils.py`. If we're in demo mode, we'll create some sample data for demonstration."
   ]
  },
  {
   "cell_type": "code",
   "execution_count": 43,
   "metadata": {},
   "outputs": [
    {
     "name": "stdout",
     "output_type": "stream",
     "text": [
      "Using LLM provider: together_ai\n"
     ]
    }
   ],
   "source": [
    "if not DEMO_MODE:\n",
    "    # Import our actual utility functions\n",
    "    try:\n",
    "        from bitcoin_utils import (\n",
    "            Config, fetch_bitcoin_news, classify_sentiment,\n",
    "            process_news_articles, make_clickable, create_sentiment_pie_chart\n",
    "        )\n",
    "        config = Config.load()\n",
    "        print(f\"Using LLM provider: {config.PROVIDER}\")\n",
    "    except ImportError:\n",
    "        print(\"Could not import bitcoin_utils. Using DEMO_MODE instead.\")\n",
    "        DEMO_MODE = True\n",
    "\n",
    "# For demo mode, create sample data\n",
    "if DEMO_MODE:\n",
    "    print(\"Running in DEMO_MODE with sample data\")\n",
    "    \n",
    "    # Create sample data function\n",
    "    def create_sample_data(days=30, ticker=\"Bitcoin\"):\n",
    "        \"\"\"Create sample sentiment data for demonstration\"\"\"\n",
    "        \n",
    "        # Generate dates\n",
    "        end_date = datetime.now()\n",
    "        start_date = end_date - timedelta(days=days)\n",
    "        dates = pd.date_range(start=start_date, end=end_date, freq='D')\n",
    "        \n",
    "        # Create sample headlines\n",
    "        headlines = [\n",
    "            f\"{ticker} surges to new heights as investors flock to crypto\",\n",
    "            f\"{ticker} stabilizes as market uncertainty continues\",\n",
    "            f\"Regulations may impact {ticker} growth, experts say\",\n",
    "            f\"New {ticker} ETF approval drives positive market sentiment\",\n",
    "            f\"{ticker} sees correction after recent gains\",\n",
    "            f\"Analysts predict bright future for {ticker} despite volatility\",\n",
    "            f\"{ticker} under pressure as traditional markets rebound\",\n",
    "            f\"Institutional investors increase {ticker} holdings\",\n",
    "            f\"Market fears impact {ticker} price in short term\",\n",
    "            f\"{ticker} community optimistic about upcoming protocol upgrade\"\n",
    "        ]\n",
    "        \n",
    "        # Generate random sentiment with some trends\n",
    "        sentiments = []\n",
    "        scores = []\n",
    "        trend = np.sin(np.linspace(0, 3*np.pi, len(dates))) * 0.5  # Oscillating trend\n",
    "        \n",
    "        for i, date in enumerate(dates):\n",
    "            # Add trend and randomness\n",
    "            r = random.random() + trend[i]\n",
    "            if r > 1.0:\n",
    "                sentiment = \"Pos\"\n",
    "                score = 1\n",
    "            elif r < 0.0:\n",
    "                sentiment = \"Neg\"\n",
    "                score = -1\n",
    "            else:\n",
    "                sentiment = \"N\"\n",
    "                score = 0\n",
    "            \n",
    "            sentiments.append(sentiment)\n",
    "            scores.append(score)\n",
    "        \n",
    "        # Create DataFrame\n",
    "        data = []\n",
    "        for i, date in enumerate(dates):\n",
    "            # Create multiple entries per day\n",
    "            for j in range(random.randint(1, 3)):\n",
    "                headline = random.choice(headlines)\n",
    "                # Add slight variation to sentiment based on headline\n",
    "                s_score = scores[i]\n",
    "                if \"surges\" in headline or \"bright future\" in headline or \"optimistic\" in headline:\n",
    "                    s_score = min(1, s_score + 0.5)\n",
    "                elif \"pressure\" in headline or \"fears\" in headline or \"uncertainty\" in headline:\n",
    "                    s_score = max(-1, s_score - 0.5)\n",
    "                \n",
    "                if s_score >= 0.5:\n",
    "                    sentiment = \"Pos\"\n",
    "                    score = 1\n",
    "                elif s_score <= -0.5:\n",
    "                    sentiment = \"Neg\"\n",
    "                    score = -1\n",
    "                else:\n",
    "                    sentiment = \"N\"\n",
    "                    score = 0\n",
    "                \n",
    "                data.append({\n",
    "                    'publishedAt': date + timedelta(hours=random.randint(0, 23)),\n",
    "                    'headline': headline,\n",
    "                    'sentiment': sentiment,\n",
    "                    'score': score,\n",
    "                    'url': f\"https://example.com/news/{i}-{j}\",\n",
    "                    'cached': False\n",
    "                })\n",
    "        \n",
    "        return pd.DataFrame(data)\n",
    "    \n",
    "    # Create sample DataFrame\n",
    "    sample_df = create_sample_data(days=30)\n",
    "    \n",
    "    # Save to CSV\n",
    "    csv_path = data_dir / \"bitcoin_sentiment_results.csv\"\n",
    "    sample_df.to_csv(csv_path, index=False)\n",
    "    print(f\"Sample data saved to {csv_path}\")"
   ]
  },
  {
   "cell_type": "markdown",
   "id": "a2607ff5",
   "metadata": {},
   "source": [
    "## 4. Fetch and Analyze News\n",
    "\n",
    "Now let's fetch Bitcoin news and analyze the sentiment. If we're in demo mode, we'll use the sample data created above."
   ]
  },
  {
   "cell_type": "code",
   "execution_count": 44,
   "id": "f66c6b19",
   "metadata": {},
   "outputs": [
    {
     "name": "stdout",
     "output_type": "stream",
     "text": [
      "Fetching and analyzing Bitcoin news...\n",
      "Fetching Bitcoin news from 2025-04-17 to 2025-05-17...\n",
      "Fetched 30 articles\n",
      "[NEW] [Ne] Tether AI: What it is and why it matters for crypto and AI...\n",
      "[CACHED] [Pos] ZA Miner Introduces Passive Crypto Income Opportunities with Flexible Contracts...\n",
      "[CACHED] [Pos] Virtune AB (Publ) is launching Virtune Bitcoin Prime ETP on Nasdaq Stockholm...\n",
      "[CACHED] [Pos] Bitcoin To Eclipse $200,000 As Economic Volatility Subsides, Says Bitwise CIO Ma...\n",
      "[CACHED] [Pos] KGN Cloud Launches Intelligent Cloud Mining Platform as Bitcoin Crosses $80K and...\n",
      "[CACHED] [N] Bitcoin Price Rises Above $104,000 Mark; JPMorgan Says Bitcoin Could Outperform ...\n",
      "[CACHED] [N] Best Crypto Casinos 2025: Top Bitcoin Casino Sites Recommended By NextCasinos...\n",
      "[CACHED] [N] Don’t hate me because you’re impotent!...\n",
      "[CACHED] [N] Northland Capmk Has Negative Outlook of TeraWulf Q2 Earnings...\n",
      "[CACHED] [N] NFTs rise 69%, hit new $4.8B high: What’s driving the 2025 surge?...\n",
      "[CACHED] [Pos] Bitcoin tops $104,000 on rate cut hopes, institutional buying; Altcoins trade mi...\n",
      "[CACHED] [N] Price PR...\n",
      "[CACHED] [Pos] Bitdeer’s Q1 mining revenue drops 41% YoY, net income surges on derivative gains...\n",
      "[CACHED] [N] Why Are Bitcoiners Eying Ruvi AI (RUVI)? Experts Predict its Incredible Gains in...\n",
      "[CACHED] [N] Price PR...\n",
      "[CACHED] [Pos] Blockchain Stocks To Follow Now – May 14th...\n",
      "[CACHED] [N] Top Financial Stocks Worth Watching – May 14th...\n",
      "[CACHED] [N] Ethereum Goes Heavy On Defense With Trillion-Dollar Security Initiative...\n",
      "[CACHED] [N] BRETT drops 10% in 24 hours: Is a dip to $0.063 next?...\n",
      "[CACHED] [Neg] Coinbase faces $400M fallout after insider-led phishing attack exposes customer ...\n",
      "[CACHED] [Pos] HJB Miner Launches Free Legal Cloud Mining Service to Earn Bitcoin for Cryptocur...\n",
      "[CACHED] [N] Starknet hits ‘Stage 1’ decentralization, tops ZK-rollups for value locked...\n",
      "[CACHED] [N] XRP Slides 4% as Bitcoin Traders Cautious of $105K Price Resistance...\n",
      "[CACHED] [Neg] Crafting a god body...\n",
      "[CACHED] [Neg] Bitfarms (NASDAQ:BITF) Shares Gap Down After Earnings Miss...\n",
      "[CACHED] [N] Investors Purchase Large Volume of Iris Energy Call Options (NASDAQ:IREN)...\n",
      "[CACHED] [N] Why Sabai?...\n",
      "[CACHED] [Pos] Brazil’s first listed bitcoin treasury firm buys 274.5 BTC amid growing corporat...\n",
      "[CACHED] [N] Stablecoin bill passes in Northern Marianas as House overrides veto...\n",
      "[CACHED] [Pos] BNB Price Finds Its Footing — Can Bulls Ignite the Next Leg Up?...\n",
      "Cache updated with 1 new entries.\n",
      "Articles processed: 30 (New: 1, Cached: 29)\n",
      "Total cost: $0.000000\n",
      "Results saved to /Users/sandeep/Desktop/Project25/Data605/data/bitcoin_sentiment_results.csv\n"
     ]
    }
   ],
   "source": [
    "if not DEMO_MODE:\n",
    "    # Process Bitcoin news articles\n",
    "    print(\"Fetching and analyzing Bitcoin news...\")\n",
    "    df = process_news_articles(config, page_size=30, days_back=30)\n",
    "    \n",
    "    # Save to CSV\n",
    "    csv_path = data_dir / \"bitcoin_sentiment_results.csv\"\n",
    "    df.to_csv(csv_path, index=False)\n",
    "    print(f\"Results saved to {csv_path}\")\n",
    "else:\n",
    "    print(\"Skipping API calls (DEMO_MODE)\")\n",
    "    # Use the sample data we created earlier\n",
    "    csv_path = data_dir / \"bitcoin_sentiment_results.csv\"\n",
    "    df = pd.read_csv(csv_path)\n",
    "    df['publishedAt'] = pd.to_datetime(df['publishedAt'])"
   ]
  },
  {
   "cell_type": "markdown",
   "id": "67eccaea",
   "metadata": {},
   "source": [
    "## 5. Data Exploration and Visualization\n",
    "\n",
    "Now let's explore the data and create visualizations to understand the sentiment distribution."
   ]
  },
  {
   "cell_type": "code",
   "execution_count": 45,
   "id": "36c6ae0c",
   "metadata": {},
   "outputs": [
    {
     "name": "stdout",
     "output_type": "stream",
     "text": [
      "Loaded 30 articles from 2025-05-16 to 2025-05-16\n",
      "\n",
      "Sentiment distribution:\n",
      "sentiment\n",
      "N      16\n",
      "Pos    10\n",
      "Neg     3\n",
      "Ne      1\n",
      "Name: count, dtype: int64\n",
      "\n",
      "Positive: 33.3%\n",
      "Neutral: 53.3%\n",
      "Negative: 10.0%\n"
     ]
    },
    {
     "data": {
      "text/html": [
       "<div>\n",
       "<style scoped>\n",
       "    .dataframe tbody tr th:only-of-type {\n",
       "        vertical-align: middle;\n",
       "    }\n",
       "\n",
       "    .dataframe tbody tr th {\n",
       "        vertical-align: top;\n",
       "    }\n",
       "\n",
       "    .dataframe thead th {\n",
       "        text-align: right;\n",
       "    }\n",
       "</style>\n",
       "<table border=\"1\" class=\"dataframe\">\n",
       "  <thead>\n",
       "    <tr style=\"text-align: right;\">\n",
       "      <th></th>\n",
       "      <th>publishedAt</th>\n",
       "      <th>headline</th>\n",
       "      <th>sentiment</th>\n",
       "      <th>score</th>\n",
       "      <th>url</th>\n",
       "      <th>cost</th>\n",
       "      <th>cached</th>\n",
       "    </tr>\n",
       "  </thead>\n",
       "  <tbody>\n",
       "    <tr>\n",
       "      <th>0</th>\n",
       "      <td>2025-05-16 07:30:00+00:00</td>\n",
       "      <td>Tether AI: What it is and why it matters for c...</td>\n",
       "      <td>Ne</td>\n",
       "      <td>0</td>\n",
       "      <td>https://cointelegraph.com/explained/tether-ai-...</td>\n",
       "      <td>0.0</td>\n",
       "      <td>False</td>\n",
       "    </tr>\n",
       "    <tr>\n",
       "      <th>1</th>\n",
       "      <td>2025-05-16 07:17:00+00:00</td>\n",
       "      <td>ZA Miner Introduces Passive Crypto Income Oppo...</td>\n",
       "      <td>Pos</td>\n",
       "      <td>1</td>\n",
       "      <td>https://www.globenewswire.com/news-release/202...</td>\n",
       "      <td>0.0</td>\n",
       "      <td>True</td>\n",
       "    </tr>\n",
       "    <tr>\n",
       "      <th>2</th>\n",
       "      <td>2025-05-16 07:10:00+00:00</td>\n",
       "      <td>Virtune AB (Publ) is launching Virtune Bitcoin...</td>\n",
       "      <td>Pos</td>\n",
       "      <td>1</td>\n",
       "      <td>https://www.globenewswire.com/news-release/202...</td>\n",
       "      <td>0.0</td>\n",
       "      <td>True</td>\n",
       "    </tr>\n",
       "    <tr>\n",
       "      <th>3</th>\n",
       "      <td>2025-05-16 07:04:34+00:00</td>\n",
       "      <td>Bitcoin To Eclipse $200,000 As Economic Volati...</td>\n",
       "      <td>Pos</td>\n",
       "      <td>1</td>\n",
       "      <td>https://dailyhodl.com/2025/05/16/bitcoin-to-ec...</td>\n",
       "      <td>0.0</td>\n",
       "      <td>True</td>\n",
       "    </tr>\n",
       "    <tr>\n",
       "      <th>4</th>\n",
       "      <td>2025-05-16 07:00:00+00:00</td>\n",
       "      <td>KGN Cloud Launches Intelligent Cloud Mining Pl...</td>\n",
       "      <td>Pos</td>\n",
       "      <td>1</td>\n",
       "      <td>https://radaronline.com/p/kgn-cloud-intelligen...</td>\n",
       "      <td>0.0</td>\n",
       "      <td>True</td>\n",
       "    </tr>\n",
       "  </tbody>\n",
       "</table>\n",
       "</div>"
      ],
      "text/plain": [
       "                publishedAt  \\\n",
       "0 2025-05-16 07:30:00+00:00   \n",
       "1 2025-05-16 07:17:00+00:00   \n",
       "2 2025-05-16 07:10:00+00:00   \n",
       "3 2025-05-16 07:04:34+00:00   \n",
       "4 2025-05-16 07:00:00+00:00   \n",
       "\n",
       "                                            headline sentiment  score  \\\n",
       "0  Tether AI: What it is and why it matters for c...        Ne      0   \n",
       "1  ZA Miner Introduces Passive Crypto Income Oppo...       Pos      1   \n",
       "2  Virtune AB (Publ) is launching Virtune Bitcoin...       Pos      1   \n",
       "3  Bitcoin To Eclipse $200,000 As Economic Volati...       Pos      1   \n",
       "4  KGN Cloud Launches Intelligent Cloud Mining Pl...       Pos      1   \n",
       "\n",
       "                                                 url  cost  cached  \n",
       "0  https://cointelegraph.com/explained/tether-ai-...   0.0   False  \n",
       "1  https://www.globenewswire.com/news-release/202...   0.0    True  \n",
       "2  https://www.globenewswire.com/news-release/202...   0.0    True  \n",
       "3  https://dailyhodl.com/2025/05/16/bitcoin-to-ec...   0.0    True  \n",
       "4  https://radaronline.com/p/kgn-cloud-intelligen...   0.0    True  "
      ]
     },
     "execution_count": 45,
     "metadata": {},
     "output_type": "execute_result"
    }
   ],
   "source": [
    "# Display basic info\n",
    "print(f\"Loaded {len(df)} articles from {df['publishedAt'].min().date()} to {df['publishedAt'].max().date()}\")\n",
    "print(\"\\nSentiment distribution:\")\n",
    "sentiment_counts = df['sentiment'].value_counts()\n",
    "print(sentiment_counts)\n",
    "\n",
    "# Calculate percentage of positive vs negative\n",
    "total = len(df)\n",
    "positive_pct = sentiment_counts.get('Pos', 0) / total * 100\n",
    "negative_pct = sentiment_counts.get('Neg', 0) / total * 100\n",
    "neutral_pct = sentiment_counts.get('N', 0) / total * 100\n",
    "\n",
    "print(f\"\\nPositive: {positive_pct:.1f}%\")\n",
    "print(f\"Neutral: {neutral_pct:.1f}%\")\n",
    "print(f\"Negative: {negative_pct:.1f}%\")\n",
    "\n",
    "# Show sample of the data\n",
    "df.head()"
   ]
  },
  {
   "cell_type": "markdown",
   "id": "39a2362e",
   "metadata": {},
   "source": [
    "### 5.1 Pie Chart Visualization\n",
    "\n",
    "Let's create a pie chart to visualize the sentiment distribution."
   ]
  },
  {
   "cell_type": "code",
   "execution_count": 46,
   "id": "4faf9006",
   "metadata": {},
   "outputs": [
    {
     "data": {
      "application/vnd.plotly.v1+json": {
       "config": {
        "plotlyServerURL": "https://plot.ly"
       },
       "data": [
        {
         "hole": 0.3,
         "labels": [
          "N",
          "Pos",
          "Neg",
          "Ne"
         ],
         "marker": {
          "colors": [
           "gray",
           "green",
           "red",
           "gray"
          ]
         },
         "type": "pie",
         "values": {
          "bdata": "EAoDAQ==",
          "dtype": "i1"
         }
        }
       ],
       "layout": {
        "template": {
         "data": {
          "bar": [
           {
            "error_x": {
             "color": "#2a3f5f"
            },
            "error_y": {
             "color": "#2a3f5f"
            },
            "marker": {
             "line": {
              "color": "#E5ECF6",
              "width": 0.5
             },
             "pattern": {
              "fillmode": "overlay",
              "size": 10,
              "solidity": 0.2
             }
            },
            "type": "bar"
           }
          ],
          "barpolar": [
           {
            "marker": {
             "line": {
              "color": "#E5ECF6",
              "width": 0.5
             },
             "pattern": {
              "fillmode": "overlay",
              "size": 10,
              "solidity": 0.2
             }
            },
            "type": "barpolar"
           }
          ],
          "carpet": [
           {
            "aaxis": {
             "endlinecolor": "#2a3f5f",
             "gridcolor": "white",
             "linecolor": "white",
             "minorgridcolor": "white",
             "startlinecolor": "#2a3f5f"
            },
            "baxis": {
             "endlinecolor": "#2a3f5f",
             "gridcolor": "white",
             "linecolor": "white",
             "minorgridcolor": "white",
             "startlinecolor": "#2a3f5f"
            },
            "type": "carpet"
           }
          ],
          "choropleth": [
           {
            "colorbar": {
             "outlinewidth": 0,
             "ticks": ""
            },
            "type": "choropleth"
           }
          ],
          "contour": [
           {
            "colorbar": {
             "outlinewidth": 0,
             "ticks": ""
            },
            "colorscale": [
             [
              0,
              "#0d0887"
             ],
             [
              0.1111111111111111,
              "#46039f"
             ],
             [
              0.2222222222222222,
              "#7201a8"
             ],
             [
              0.3333333333333333,
              "#9c179e"
             ],
             [
              0.4444444444444444,
              "#bd3786"
             ],
             [
              0.5555555555555556,
              "#d8576b"
             ],
             [
              0.6666666666666666,
              "#ed7953"
             ],
             [
              0.7777777777777778,
              "#fb9f3a"
             ],
             [
              0.8888888888888888,
              "#fdca26"
             ],
             [
              1,
              "#f0f921"
             ]
            ],
            "type": "contour"
           }
          ],
          "contourcarpet": [
           {
            "colorbar": {
             "outlinewidth": 0,
             "ticks": ""
            },
            "type": "contourcarpet"
           }
          ],
          "heatmap": [
           {
            "colorbar": {
             "outlinewidth": 0,
             "ticks": ""
            },
            "colorscale": [
             [
              0,
              "#0d0887"
             ],
             [
              0.1111111111111111,
              "#46039f"
             ],
             [
              0.2222222222222222,
              "#7201a8"
             ],
             [
              0.3333333333333333,
              "#9c179e"
             ],
             [
              0.4444444444444444,
              "#bd3786"
             ],
             [
              0.5555555555555556,
              "#d8576b"
             ],
             [
              0.6666666666666666,
              "#ed7953"
             ],
             [
              0.7777777777777778,
              "#fb9f3a"
             ],
             [
              0.8888888888888888,
              "#fdca26"
             ],
             [
              1,
              "#f0f921"
             ]
            ],
            "type": "heatmap"
           }
          ],
          "histogram": [
           {
            "marker": {
             "pattern": {
              "fillmode": "overlay",
              "size": 10,
              "solidity": 0.2
             }
            },
            "type": "histogram"
           }
          ],
          "histogram2d": [
           {
            "colorbar": {
             "outlinewidth": 0,
             "ticks": ""
            },
            "colorscale": [
             [
              0,
              "#0d0887"
             ],
             [
              0.1111111111111111,
              "#46039f"
             ],
             [
              0.2222222222222222,
              "#7201a8"
             ],
             [
              0.3333333333333333,
              "#9c179e"
             ],
             [
              0.4444444444444444,
              "#bd3786"
             ],
             [
              0.5555555555555556,
              "#d8576b"
             ],
             [
              0.6666666666666666,
              "#ed7953"
             ],
             [
              0.7777777777777778,
              "#fb9f3a"
             ],
             [
              0.8888888888888888,
              "#fdca26"
             ],
             [
              1,
              "#f0f921"
             ]
            ],
            "type": "histogram2d"
           }
          ],
          "histogram2dcontour": [
           {
            "colorbar": {
             "outlinewidth": 0,
             "ticks": ""
            },
            "colorscale": [
             [
              0,
              "#0d0887"
             ],
             [
              0.1111111111111111,
              "#46039f"
             ],
             [
              0.2222222222222222,
              "#7201a8"
             ],
             [
              0.3333333333333333,
              "#9c179e"
             ],
             [
              0.4444444444444444,
              "#bd3786"
             ],
             [
              0.5555555555555556,
              "#d8576b"
             ],
             [
              0.6666666666666666,
              "#ed7953"
             ],
             [
              0.7777777777777778,
              "#fb9f3a"
             ],
             [
              0.8888888888888888,
              "#fdca26"
             ],
             [
              1,
              "#f0f921"
             ]
            ],
            "type": "histogram2dcontour"
           }
          ],
          "mesh3d": [
           {
            "colorbar": {
             "outlinewidth": 0,
             "ticks": ""
            },
            "type": "mesh3d"
           }
          ],
          "parcoords": [
           {
            "line": {
             "colorbar": {
              "outlinewidth": 0,
              "ticks": ""
             }
            },
            "type": "parcoords"
           }
          ],
          "pie": [
           {
            "automargin": true,
            "type": "pie"
           }
          ],
          "scatter": [
           {
            "fillpattern": {
             "fillmode": "overlay",
             "size": 10,
             "solidity": 0.2
            },
            "type": "scatter"
           }
          ],
          "scatter3d": [
           {
            "line": {
             "colorbar": {
              "outlinewidth": 0,
              "ticks": ""
             }
            },
            "marker": {
             "colorbar": {
              "outlinewidth": 0,
              "ticks": ""
             }
            },
            "type": "scatter3d"
           }
          ],
          "scattercarpet": [
           {
            "marker": {
             "colorbar": {
              "outlinewidth": 0,
              "ticks": ""
             }
            },
            "type": "scattercarpet"
           }
          ],
          "scattergeo": [
           {
            "marker": {
             "colorbar": {
              "outlinewidth": 0,
              "ticks": ""
             }
            },
            "type": "scattergeo"
           }
          ],
          "scattergl": [
           {
            "marker": {
             "colorbar": {
              "outlinewidth": 0,
              "ticks": ""
             }
            },
            "type": "scattergl"
           }
          ],
          "scattermap": [
           {
            "marker": {
             "colorbar": {
              "outlinewidth": 0,
              "ticks": ""
             }
            },
            "type": "scattermap"
           }
          ],
          "scattermapbox": [
           {
            "marker": {
             "colorbar": {
              "outlinewidth": 0,
              "ticks": ""
             }
            },
            "type": "scattermapbox"
           }
          ],
          "scatterpolar": [
           {
            "marker": {
             "colorbar": {
              "outlinewidth": 0,
              "ticks": ""
             }
            },
            "type": "scatterpolar"
           }
          ],
          "scatterpolargl": [
           {
            "marker": {
             "colorbar": {
              "outlinewidth": 0,
              "ticks": ""
             }
            },
            "type": "scatterpolargl"
           }
          ],
          "scatterternary": [
           {
            "marker": {
             "colorbar": {
              "outlinewidth": 0,
              "ticks": ""
             }
            },
            "type": "scatterternary"
           }
          ],
          "surface": [
           {
            "colorbar": {
             "outlinewidth": 0,
             "ticks": ""
            },
            "colorscale": [
             [
              0,
              "#0d0887"
             ],
             [
              0.1111111111111111,
              "#46039f"
             ],
             [
              0.2222222222222222,
              "#7201a8"
             ],
             [
              0.3333333333333333,
              "#9c179e"
             ],
             [
              0.4444444444444444,
              "#bd3786"
             ],
             [
              0.5555555555555556,
              "#d8576b"
             ],
             [
              0.6666666666666666,
              "#ed7953"
             ],
             [
              0.7777777777777778,
              "#fb9f3a"
             ],
             [
              0.8888888888888888,
              "#fdca26"
             ],
             [
              1,
              "#f0f921"
             ]
            ],
            "type": "surface"
           }
          ],
          "table": [
           {
            "cells": {
             "fill": {
              "color": "#EBF0F8"
             },
             "line": {
              "color": "white"
             }
            },
            "header": {
             "fill": {
              "color": "#C8D4E3"
             },
             "line": {
              "color": "white"
             }
            },
            "type": "table"
           }
          ]
         },
         "layout": {
          "annotationdefaults": {
           "arrowcolor": "#2a3f5f",
           "arrowhead": 0,
           "arrowwidth": 1
          },
          "autotypenumbers": "strict",
          "coloraxis": {
           "colorbar": {
            "outlinewidth": 0,
            "ticks": ""
           }
          },
          "colorscale": {
           "diverging": [
            [
             0,
             "#8e0152"
            ],
            [
             0.1,
             "#c51b7d"
            ],
            [
             0.2,
             "#de77ae"
            ],
            [
             0.3,
             "#f1b6da"
            ],
            [
             0.4,
             "#fde0ef"
            ],
            [
             0.5,
             "#f7f7f7"
            ],
            [
             0.6,
             "#e6f5d0"
            ],
            [
             0.7,
             "#b8e186"
            ],
            [
             0.8,
             "#7fbc41"
            ],
            [
             0.9,
             "#4d9221"
            ],
            [
             1,
             "#276419"
            ]
           ],
           "sequential": [
            [
             0,
             "#0d0887"
            ],
            [
             0.1111111111111111,
             "#46039f"
            ],
            [
             0.2222222222222222,
             "#7201a8"
            ],
            [
             0.3333333333333333,
             "#9c179e"
            ],
            [
             0.4444444444444444,
             "#bd3786"
            ],
            [
             0.5555555555555556,
             "#d8576b"
            ],
            [
             0.6666666666666666,
             "#ed7953"
            ],
            [
             0.7777777777777778,
             "#fb9f3a"
            ],
            [
             0.8888888888888888,
             "#fdca26"
            ],
            [
             1,
             "#f0f921"
            ]
           ],
           "sequentialminus": [
            [
             0,
             "#0d0887"
            ],
            [
             0.1111111111111111,
             "#46039f"
            ],
            [
             0.2222222222222222,
             "#7201a8"
            ],
            [
             0.3333333333333333,
             "#9c179e"
            ],
            [
             0.4444444444444444,
             "#bd3786"
            ],
            [
             0.5555555555555556,
             "#d8576b"
            ],
            [
             0.6666666666666666,
             "#ed7953"
            ],
            [
             0.7777777777777778,
             "#fb9f3a"
            ],
            [
             0.8888888888888888,
             "#fdca26"
            ],
            [
             1,
             "#f0f921"
            ]
           ]
          },
          "colorway": [
           "#636efa",
           "#EF553B",
           "#00cc96",
           "#ab63fa",
           "#FFA15A",
           "#19d3f3",
           "#FF6692",
           "#B6E880",
           "#FF97FF",
           "#FECB52"
          ],
          "font": {
           "color": "#2a3f5f"
          },
          "geo": {
           "bgcolor": "white",
           "lakecolor": "white",
           "landcolor": "#E5ECF6",
           "showlakes": true,
           "showland": true,
           "subunitcolor": "white"
          },
          "hoverlabel": {
           "align": "left"
          },
          "hovermode": "closest",
          "mapbox": {
           "style": "light"
          },
          "paper_bgcolor": "white",
          "plot_bgcolor": "#E5ECF6",
          "polar": {
           "angularaxis": {
            "gridcolor": "white",
            "linecolor": "white",
            "ticks": ""
           },
           "bgcolor": "#E5ECF6",
           "radialaxis": {
            "gridcolor": "white",
            "linecolor": "white",
            "ticks": ""
           }
          },
          "scene": {
           "xaxis": {
            "backgroundcolor": "#E5ECF6",
            "gridcolor": "white",
            "gridwidth": 2,
            "linecolor": "white",
            "showbackground": true,
            "ticks": "",
            "zerolinecolor": "white"
           },
           "yaxis": {
            "backgroundcolor": "#E5ECF6",
            "gridcolor": "white",
            "gridwidth": 2,
            "linecolor": "white",
            "showbackground": true,
            "ticks": "",
            "zerolinecolor": "white"
           },
           "zaxis": {
            "backgroundcolor": "#E5ECF6",
            "gridcolor": "white",
            "gridwidth": 2,
            "linecolor": "white",
            "showbackground": true,
            "ticks": "",
            "zerolinecolor": "white"
           }
          },
          "shapedefaults": {
           "line": {
            "color": "#2a3f5f"
           }
          },
          "ternary": {
           "aaxis": {
            "gridcolor": "white",
            "linecolor": "white",
            "ticks": ""
           },
           "baxis": {
            "gridcolor": "white",
            "linecolor": "white",
            "ticks": ""
           },
           "bgcolor": "#E5ECF6",
           "caxis": {
            "gridcolor": "white",
            "linecolor": "white",
            "ticks": ""
           }
          },
          "title": {
           "x": 0.05
          },
          "xaxis": {
           "automargin": true,
           "gridcolor": "white",
           "linecolor": "white",
           "ticks": "",
           "title": {
            "standoff": 15
           },
           "zerolinecolor": "white",
           "zerolinewidth": 2
          },
          "yaxis": {
           "automargin": true,
           "gridcolor": "white",
           "linecolor": "white",
           "ticks": "",
           "title": {
            "standoff": 15
           },
           "zerolinecolor": "white",
           "zerolinewidth": 2
          }
         }
        },
        "title": {
         "text": "Bitcoin News Sentiment Distribution"
        }
       }
      }
     },
     "metadata": {},
     "output_type": "display_data"
    }
   ],
   "source": [
    "# Create a pie chart\n",
    "labels = sentiment_counts.index\n",
    "values = sentiment_counts.values\n",
    "colors = ['green' if x in ['Positive', 'Pos'] else 'red' if x in ['Negative', 'Neg'] else 'gray' for x in labels]\n",
    "\n",
    "fig = go.Figure(data=[go.Pie(labels=labels, values=values, hole=.3, marker_colors=colors)])\n",
    "fig.update_layout(title_text=\"Bitcoin News Sentiment Distribution\")\n",
    "fig.show()"
   ]
  },
  {
   "cell_type": "markdown",
   "id": "09ce9083",
   "metadata": {},
   "source": [
    "### 5.2 Time Series Visualization\n",
    "\n",
    "Let's create a time series visualization to see how sentiment has changed over time."
   ]
  },
  {
   "cell_type": "code",
   "execution_count": 47,
   "id": "2f817ce8",
   "metadata": {},
   "outputs": [
    {
     "data": {
      "image/png": "[encoded data removed]",
      "text/plain": [
       "<Figure size 1200x600 with 1 Axes>"
      ]
     },
     "metadata": {},
     "output_type": "display_data"
    }
   ],
   "source": [
    "# Group by date and calculate sentiment percentages\n",
    "df['date'] = df['publishedAt'].dt.date\n",
    "sentiment_by_date = df.groupby('date')['sentiment'].value_counts().unstack().fillna(0)\n",
    "\n",
    "# Calculate percentages\n",
    "for col in sentiment_by_date.columns:\n",
    "    sentiment_by_date[f'{col}_pct'] = sentiment_by_date[col] / sentiment_by_date.sum(axis=1) * 100\n",
    "\n",
    "# Create figure\n",
    "plt.figure(figsize=(12, 6))\n",
    "\n",
    "# Plot percentage of positive and negative sentiment\n",
    "if 'Pos' in sentiment_by_date.columns:\n",
    "    plt.plot(sentiment_by_date.index, sentiment_by_date['Pos_pct'], \n",
    "             color='green', marker='o', linestyle='-', label='Positive %')\n",
    "if 'Neg' in sentiment_by_date.columns:\n",
    "    plt.plot(sentiment_by_date.index, sentiment_by_date['Neg_pct'], \n",
    "             color='red', marker='x', linestyle='-', label='Negative %')\n",
    "\n",
    "plt.title('Bitcoin News Sentiment Over Time (% Positive vs Negative)')\n",
    "plt.xlabel('Date')\n",
    "plt.ylabel('Percentage')\n",
    "plt.legend()\n",
    "plt.grid(True, alpha=0.3)\n",
    "plt.tight_layout()\n",
    "plt.show()"
   ]
  },
  {
   "cell_type": "markdown",
   "id": "8b0cf765",
   "metadata": {},
   "source": [
    "### 5.3 Rolling Average Sentiment Score\n",
    "\n",
    "Let's calculate and visualize a 7-day rolling average of the sentiment score."
   ]
  },
  {
   "cell_type": "code",
   "execution_count": 52,
   "id": "a6e672a5",
   "metadata": {},
   "outputs": [
    {
     "name": "stdout",
     "output_type": "stream",
     "text": [
      "DF shape: (30, 8)\n",
      "First few rows:\n",
      "                 publishedAt  \\\n",
      "0 2025-05-16 07:30:00+00:00   \n",
      "1 2025-05-16 07:17:00+00:00   \n",
      "2 2025-05-16 07:10:00+00:00   \n",
      "3 2025-05-16 07:04:34+00:00   \n",
      "4 2025-05-16 07:00:00+00:00   \n",
      "\n",
      "                                            headline sentiment  score  \\\n",
      "0  Tether AI: What it is and why it matters for c...        Ne      0   \n",
      "1  ZA Miner Introduces Passive Crypto Income Oppo...       Pos      1   \n",
      "2  Virtune AB (Publ) is launching Virtune Bitcoin...       Pos      1   \n",
      "3  Bitcoin To Eclipse $200,000 As Economic Volati...       Pos      1   \n",
      "4  KGN Cloud Launches Intelligent Cloud Mining Pl...       Pos      1   \n",
      "\n",
      "                                                 url  cost  cached        date  \n",
      "0  https://cointelegraph.com/explained/tether-ai-...   0.0   False  2025-05-16  \n",
      "1  https://www.globenewswire.com/news-release/202...   0.0    True  2025-05-16  \n",
      "2  https://www.globenewswire.com/news-release/202...   0.0    True  2025-05-16  \n",
      "3  https://dailyhodl.com/2025/05/16/bitcoin-to-ec...   0.0    True  2025-05-16  \n",
      "4  https://radaronline.com/p/kgn-cloud-intelligen...   0.0    True  2025-05-16  \n",
      "Date column nulls: 0\n",
      "Score column nulls: 0\n",
      "Daily score:\n",
      " date\n",
      "2025-05-16    0.233333\n",
      "Name: score, dtype: float64\n",
      "Rolling score:\n",
      " date\n",
      "2025-05-16    0.233333\n",
      "Name: score, dtype: float64\n"
     ]
    }
   ],
   "source": [
    "print(\"DF shape:\", df.shape)\n",
    "print(\"First few rows:\\n\", df.head())\n",
    "print(\"Date column nulls:\", df['date'].isnull().sum())\n",
    "print(\"Score column nulls:\", df['score'].isnull().sum())\n",
    "\n",
    "daily_score = df.groupby('date')['score'].mean()\n",
    "print(\"Daily score:\\n\", daily_score)\n",
    "\n",
    "rolling_score = daily_score.rolling(window=7, min_periods=1).mean()\n",
    "print(\"Rolling score:\\n\", rolling_score)"
   ]
  },
  {
   "cell_type": "code",
   "execution_count": 48,
   "id": "24c4b8e3",
   "metadata": {},
   "outputs": [
    {
     "data": {
      "image/png": "[encoded data removed]",
      "text/plain": [
       "<Figure size 1200x600 with 1 Axes>"
      ]
     },
     "metadata": {},
     "output_type": "display_data"
    }
   ],
   "source": [
    "# Calculate rolling sentiment score (7-day window)\n",
    "daily_score = df.groupby('date')['score'].mean()\n",
    "rolling_score = daily_score.rolling(window=7, min_periods=1).mean()\n",
    "\n",
    "plt.figure(figsize=(12, 6))\n",
    "plt.plot(rolling_score.index, rolling_score, color='blue', linewidth=2)\n",
    "plt.axhline(y=0, color='gray', linestyle='--', alpha=0.7)\n",
    "plt.title('7-Day Rolling Average Sentiment Score')\n",
    "plt.xlabel('Date')\n",
    "plt.ylabel('Average Sentiment Score (-1 to 1)')\n",
    "plt.grid(True, alpha=0.3)\n",
    "plt.tight_layout()\n",
    "plt.show()"
   ]
  },
  {
   "cell_type": "markdown",
   "id": "6c56d17f",
   "metadata": {},
   "source": [
    "### 5.4 Interactive Visualization with Plotly\n",
    "\n",
    "Now let's create an interactive visualization using Plotly for better exploration."
   ]
  },
  {
   "cell_type": "code",
   "execution_count": 49,
   "id": "8cd8a4d3",
   "metadata": {},
   "outputs": [
    {
     "data": {
      "application/vnd.plotly.v1+json": {
       "config": {
        "plotlyServerURL": "https://plot.ly"
       },
       "data": [
        {
         "hovertemplate": "%{y:.1f}%<extra></extra>",
         "line": {
          "color": "green"
         },
         "mode": "lines+markers",
         "name": "Pos %",
         "type": "scatter",
         "x": [
          "2025-05-16"
         ],
         "xaxis": "x",
         "y": {
          "bdata": "FP9jEMC0JkA=",
          "dtype": "f8"
         },
         "yaxis": "y"
        },
        {
         "hovertemplate": "%{y:.1f}%<extra></extra>",
         "line": {
          "color": "gray"
         },
         "mode": "lines+markers",
         "name": "N %",
         "type": "scatter",
         "x": [
          "2025-05-16"
         ],
         "xaxis": "x",
         "y": {
          "bdata": "q6qqqqqqSkA=",
          "dtype": "f8"
         },
         "yaxis": "y"
        },
        {
         "hovertemplate": "%{y:.1f}%<extra></extra>",
         "line": {
          "color": "red"
         },
         "mode": "lines+markers",
         "name": "Neg %",
         "type": "scatter",
         "x": [
          "2025-05-16"
         ],
         "xaxis": "x",
         "y": {
          "bdata": "MsB6iCNkDEA=",
          "dtype": "f8"
         },
         "yaxis": "y"
        },
        {
         "hovertemplate": "Score: %{y:.2f}<extra></extra>",
         "line": {
          "color": "royalblue",
          "width": 3
         },
         "mode": "lines",
         "name": "7-Day Avg Score",
         "type": "scatter",
         "x": [
          "2025-05-16"
         ],
         "xaxis": "x2",
         "y": {
          "bdata": "3t3d3d3dzT8=",
          "dtype": "f8"
         },
         "yaxis": "y2"
        }
       ],
       "layout": {
        "annotations": [
         {
          "font": {
           "size": 16
          },
          "showarrow": false,
          "text": "Sentiment Distribution Over Time",
          "x": 0.5,
          "xanchor": "center",
          "xref": "paper",
          "y": 1,
          "yanchor": "bottom",
          "yref": "paper"
         },
         {
          "font": {
           "size": 16
          },
          "showarrow": false,
          "text": "Rolling Average Sentiment Score",
          "x": 0.5,
          "xanchor": "center",
          "xref": "paper",
          "y": 0.375,
          "yanchor": "bottom",
          "yref": "paper"
         }
        ],
        "height": 800,
        "hovermode": "x unified",
        "shapes": [
         {
          "line": {
           "color": "gray",
           "dash": "dash"
          },
          "type": "line",
          "x0": "2025-05-16",
          "x1": "2025-05-16",
          "xref": "x2",
          "y0": 0,
          "y1": 0,
          "yref": "y2"
         }
        ],
        "showlegend": true,
        "template": {
         "data": {
          "bar": [
           {
            "error_x": {
             "color": "#2a3f5f"
            },
            "error_y": {
             "color": "#2a3f5f"
            },
            "marker": {
             "line": {
              "color": "#E5ECF6",
              "width": 0.5
             },
             "pattern": {
              "fillmode": "overlay",
              "size": 10,
              "solidity": 0.2
             }
            },
            "type": "bar"
           }
          ],
          "barpolar": [
           {
            "marker": {
             "line": {
              "color": "#E5ECF6",
              "width": 0.5
             },
             "pattern": {
              "fillmode": "overlay",
              "size": 10,
              "solidity": 0.2
             }
            },
            "type": "barpolar"
           }
          ],
          "carpet": [
           {
            "aaxis": {
             "endlinecolor": "#2a3f5f",
             "gridcolor": "white",
             "linecolor": "white",
             "minorgridcolor": "white",
             "startlinecolor": "#2a3f5f"
            },
            "baxis": {
             "endlinecolor": "#2a3f5f",
             "gridcolor": "white",
             "linecolor": "white",
             "minorgridcolor": "white",
             "startlinecolor": "#2a3f5f"
            },
            "type": "carpet"
           }
          ],
          "choropleth": [
           {
            "colorbar": {
             "outlinewidth": 0,
             "ticks": ""
            },
            "type": "choropleth"
           }
          ],
          "contour": [
           {
            "colorbar": {
             "outlinewidth": 0,
             "ticks": ""
            },
            "colorscale": [
             [
              0,
              "#0d0887"
             ],
             [
              0.1111111111111111,
              "#46039f"
             ],
             [
              0.2222222222222222,
              "#7201a8"
             ],
             [
              0.3333333333333333,
              "#9c179e"
             ],
             [
              0.4444444444444444,
              "#bd3786"
             ],
             [
              0.5555555555555556,
              "#d8576b"
             ],
             [
              0.6666666666666666,
              "#ed7953"
             ],
             [
              0.7777777777777778,
              "#fb9f3a"
             ],
             [
              0.8888888888888888,
              "#fdca26"
             ],
             [
              1,
              "#f0f921"
             ]
            ],
            "type": "contour"
           }
          ],
          "contourcarpet": [
           {
            "colorbar": {
             "outlinewidth": 0,
             "ticks": ""
            },
            "type": "contourcarpet"
           }
          ],
          "heatmap": [
           {
            "colorbar": {
             "outlinewidth": 0,
             "ticks": ""
            },
            "colorscale": [
             [
              0,
              "#0d0887"
             ],
             [
              0.1111111111111111,
              "#46039f"
             ],
             [
              0.2222222222222222,
              "#7201a8"
             ],
             [
              0.3333333333333333,
              "#9c179e"
             ],
             [
              0.4444444444444444,
              "#bd3786"
             ],
             [
              0.5555555555555556,
              "#d8576b"
             ],
             [
              0.6666666666666666,
              "#ed7953"
             ],
             [
              0.7777777777777778,
              "#fb9f3a"
             ],
             [
              0.8888888888888888,
              "#fdca26"
             ],
             [
              1,
              "#f0f921"
             ]
            ],
            "type": "heatmap"
           }
          ],
          "histogram": [
           {
            "marker": {
             "pattern": {
              "fillmode": "overlay",
              "size": 10,
              "solidity": 0.2
             }
            },
            "type": "histogram"
           }
          ],
          "histogram2d": [
           {
            "colorbar": {
             "outlinewidth": 0,
             "ticks": ""
            },
            "colorscale": [
             [
              0,
              "#0d0887"
             ],
             [
              0.1111111111111111,
              "#46039f"
             ],
             [
              0.2222222222222222,
              "#7201a8"
             ],
             [
              0.3333333333333333,
              "#9c179e"
             ],
             [
              0.4444444444444444,
              "#bd3786"
             ],
             [
              0.5555555555555556,
              "#d8576b"
             ],
             [
              0.6666666666666666,
              "#ed7953"
             ],
             [
              0.7777777777777778,
              "#fb9f3a"
             ],
             [
              0.8888888888888888,
              "#fdca26"
             ],
             [
              1,
              "#f0f921"
             ]
            ],
            "type": "histogram2d"
           }
          ],
          "histogram2dcontour": [
           {
            "colorbar": {
             "outlinewidth": 0,
             "ticks": ""
            },
            "colorscale": [
             [
              0,
              "#0d0887"
             ],
             [
              0.1111111111111111,
              "#46039f"
             ],
             [
              0.2222222222222222,
              "#7201a8"
             ],
             [
              0.3333333333333333,
              "#9c179e"
             ],
             [
              0.4444444444444444,
              "#bd3786"
             ],
             [
              0.5555555555555556,
              "#d8576b"
             ],
             [
              0.6666666666666666,
              "#ed7953"
             ],
             [
              0.7777777777777778,
              "#fb9f3a"
             ],
             [
              0.8888888888888888,
              "#fdca26"
             ],
             [
              1,
              "#f0f921"
             ]
            ],
            "type": "histogram2dcontour"
           }
          ],
          "mesh3d": [
           {
            "colorbar": {
             "outlinewidth": 0,
             "ticks": ""
            },
            "type": "mesh3d"
           }
          ],
          "parcoords": [
           {
            "line": {
             "colorbar": {
              "outlinewidth": 0,
              "ticks": ""
             }
            },
            "type": "parcoords"
           }
          ],
          "pie": [
           {
            "automargin": true,
            "type": "pie"
           }
          ],
          "scatter": [
           {
            "fillpattern": {
             "fillmode": "overlay",
             "size": 10,
             "solidity": 0.2
            },
            "type": "scatter"
           }
          ],
          "scatter3d": [
           {
            "line": {
             "colorbar": {
              "outlinewidth": 0,
              "ticks": ""
             }
            },
            "marker": {
             "colorbar": {
              "outlinewidth": 0,
              "ticks": ""
             }
            },
            "type": "scatter3d"
           }
          ],
          "scattercarpet": [
           {
            "marker": {
             "colorbar": {
              "outlinewidth": 0,
              "ticks": ""
             }
            },
            "type": "scattercarpet"
           }
          ],
          "scattergeo": [
           {
            "marker": {
             "colorbar": {
              "outlinewidth": 0,
              "ticks": ""
             }
            },
            "type": "scattergeo"
           }
          ],
          "scattergl": [
           {
            "marker": {
             "colorbar": {
              "outlinewidth": 0,
              "ticks": ""
             }
            },
            "type": "scattergl"
           }
          ],
          "scattermap": [
           {
            "marker": {
             "colorbar": {
              "outlinewidth": 0,
              "ticks": ""
             }
            },
            "type": "scattermap"
           }
          ],
          "scattermapbox": [
           {
            "marker": {
             "colorbar": {
              "outlinewidth": 0,
              "ticks": ""
             }
            },
            "type": "scattermapbox"
           }
          ],
          "scatterpolar": [
           {
            "marker": {
             "colorbar": {
              "outlinewidth": 0,
              "ticks": ""
             }
            },
            "type": "scatterpolar"
           }
          ],
          "scatterpolargl": [
           {
            "marker": {
             "colorbar": {
              "outlinewidth": 0,
              "ticks": ""
             }
            },
            "type": "scatterpolargl"
           }
          ],
          "scatterternary": [
           {
            "marker": {
             "colorbar": {
              "outlinewidth": 0,
              "ticks": ""
             }
            },
            "type": "scatterternary"
           }
          ],
          "surface": [
           {
            "colorbar": {
             "outlinewidth": 0,
             "ticks": ""
            },
            "colorscale": [
             [
              0,
              "#0d0887"
             ],
             [
              0.1111111111111111,
              "#46039f"
             ],
             [
              0.2222222222222222,
              "#7201a8"
             ],
             [
              0.3333333333333333,
              "#9c179e"
             ],
             [
              0.4444444444444444,
              "#bd3786"
             ],
             [
              0.5555555555555556,
              "#d8576b"
             ],
             [
              0.6666666666666666,
              "#ed7953"
             ],
             [
              0.7777777777777778,
              "#fb9f3a"
             ],
             [
              0.8888888888888888,
              "#fdca26"
             ],
             [
              1,
              "#f0f921"
             ]
            ],
            "type": "surface"
           }
          ],
          "table": [
           {
            "cells": {
             "fill": {
              "color": "#EBF0F8"
             },
             "line": {
              "color": "white"
             }
            },
            "header": {
             "fill": {
              "color": "#C8D4E3"
             },
             "line": {
              "color": "white"
             }
            },
            "type": "table"
           }
          ]
         },
         "layout": {
          "annotationdefaults": {
           "arrowcolor": "#2a3f5f",
           "arrowhead": 0,
           "arrowwidth": 1
          },
          "autotypenumbers": "strict",
          "coloraxis": {
           "colorbar": {
            "outlinewidth": 0,
            "ticks": ""
           }
          },
          "colorscale": {
           "diverging": [
            [
             0,
             "#8e0152"
            ],
            [
             0.1,
             "#c51b7d"
            ],
            [
             0.2,
             "#de77ae"
            ],
            [
             0.3,
             "#f1b6da"
            ],
            [
             0.4,
             "#fde0ef"
            ],
            [
             0.5,
             "#f7f7f7"
            ],
            [
             0.6,
             "#e6f5d0"
            ],
            [
             0.7,
             "#b8e186"
            ],
            [
             0.8,
             "#7fbc41"
            ],
            [
             0.9,
             "#4d9221"
            ],
            [
             1,
             "#276419"
            ]
           ],
           "sequential": [
            [
             0,
             "#0d0887"
            ],
            [
             0.1111111111111111,
             "#46039f"
            ],
            [
             0.2222222222222222,
             "#7201a8"
            ],
            [
             0.3333333333333333,
             "#9c179e"
            ],
            [
             0.4444444444444444,
             "#bd3786"
            ],
            [
             0.5555555555555556,
             "#d8576b"
            ],
            [
             0.6666666666666666,
             "#ed7953"
            ],
            [
             0.7777777777777778,
             "#fb9f3a"
            ],
            [
             0.8888888888888888,
             "#fdca26"
            ],
            [
             1,
             "#f0f921"
            ]
           ],
           "sequentialminus": [
            [
             0,
             "#0d0887"
            ],
            [
             0.1111111111111111,
             "#46039f"
            ],
            [
             0.2222222222222222,
             "#7201a8"
            ],
            [
             0.3333333333333333,
             "#9c179e"
            ],
            [
             0.4444444444444444,
             "#bd3786"
            ],
            [
             0.5555555555555556,
             "#d8576b"
            ],
            [
             0.6666666666666666,
             "#ed7953"
            ],
            [
             0.7777777777777778,
             "#fb9f3a"
            ],
            [
             0.8888888888888888,
             "#fdca26"
            ],
            [
             1,
             "#f0f921"
            ]
           ]
          },
          "colorway": [
           "#636efa",
           "#EF553B",
           "#00cc96",
           "#ab63fa",
           "#FFA15A",
           "#19d3f3",
           "#FF6692",
           "#B6E880",
           "#FF97FF",
           "#FECB52"
          ],
          "font": {
           "color": "#2a3f5f"
          },
          "geo": {
           "bgcolor": "white",
           "lakecolor": "white",
           "landcolor": "#E5ECF6",
           "showlakes": true,
           "showland": true,
           "subunitcolor": "white"
          },
          "hoverlabel": {
           "align": "left"
          },
          "hovermode": "closest",
          "mapbox": {
           "style": "light"
          },
          "paper_bgcolor": "white",
          "plot_bgcolor": "#E5ECF6",
          "polar": {
           "angularaxis": {
            "gridcolor": "white",
            "linecolor": "white",
            "ticks": ""
           },
           "bgcolor": "#E5ECF6",
           "radialaxis": {
            "gridcolor": "white",
            "linecolor": "white",
            "ticks": ""
           }
          },
          "scene": {
           "xaxis": {
            "backgroundcolor": "#E5ECF6",
            "gridcolor": "white",
            "gridwidth": 2,
            "linecolor": "white",
            "showbackground": true,
            "ticks": "",
            "zerolinecolor": "white"
           },
           "yaxis": {
            "backgroundcolor": "#E5ECF6",
            "gridcolor": "white",
            "gridwidth": 2,
            "linecolor": "white",
            "showbackground": true,
            "ticks": "",
            "zerolinecolor": "white"
           },
           "zaxis": {
            "backgroundcolor": "#E5ECF6",
            "gridcolor": "white",
            "gridwidth": 2,
            "linecolor": "white",
            "showbackground": true,
            "ticks": "",
            "zerolinecolor": "white"
           }
          },
          "shapedefaults": {
           "line": {
            "color": "#2a3f5f"
           }
          },
          "ternary": {
           "aaxis": {
            "gridcolor": "white",
            "linecolor": "white",
            "ticks": ""
           },
           "baxis": {
            "gridcolor": "white",
            "linecolor": "white",
            "ticks": ""
           },
           "bgcolor": "#E5ECF6",
           "caxis": {
            "gridcolor": "white",
            "linecolor": "white",
            "ticks": ""
           }
          },
          "title": {
           "x": 0.05
          },
          "xaxis": {
           "automargin": true,
           "gridcolor": "white",
           "linecolor": "white",
           "ticks": "",
           "title": {
            "standoff": 15
           },
           "zerolinecolor": "white",
           "zerolinewidth": 2
          },
          "yaxis": {
           "automargin": true,
           "gridcolor": "white",
           "linecolor": "white",
           "ticks": "",
           "title": {
            "standoff": 15
           },
           "zerolinecolor": "white",
           "zerolinewidth": 2
          }
         }
        },
        "title": {
         "text": "Bitcoin News Sentiment Analysis"
        },
        "xaxis": {
         "anchor": "y",
         "domain": [
          0,
          1
         ]
        },
        "xaxis2": {
         "anchor": "y2",
         "domain": [
          0,
          1
         ]
        },
        "yaxis": {
         "anchor": "x",
         "domain": [
          0.625,
          1
         ],
         "title": {
          "text": "Percentage"
         }
        },
        "yaxis2": {
         "anchor": "x2",
         "domain": [
          0,
          0.375
         ],
         "title": {
          "text": "Sentiment Score"
         }
        }
       }
      }
     },
     "metadata": {},
     "output_type": "display_data"
    }
   ],
   "source": [
    "# Create an interactive time series\n",
    "fig = make_subplots(rows=2, cols=1, \n",
    "                   subplot_titles=('Sentiment Distribution Over Time', 'Rolling Average Sentiment Score'))\n",
    "\n",
    "# Add sentiment distribution\n",
    "for sentiment, color, label in zip(['Pos', 'N', 'Neg'], ['green', 'gray', 'red'], ['Positive', 'Neutral', 'Negative']):\n",
    "    if sentiment in sentiment_by_date.columns:\n",
    "        fig.add_trace(\n",
    "            go.Scatter(\n",
    "                x=sentiment_by_date.index, \n",
    "                y=sentiment_by_date[f'{sentiment}_pct'],\n",
    "                mode='lines+markers',\n",
    "                name=f'{sentiment} %',\n",
    "                line=dict(color=color),\n",
    "                hovertemplate='%{y:.1f}%<extra></extra>'\n",
    "            ),\n",
    "            row=1, col=1\n",
    "        )\n",
    "\n",
    "# Add rolling sentiment score\n",
    "fig.add_trace(\n",
    "    go.Scatter(\n",
    "        x=rolling_score.index,\n",
    "        y=rolling_score,\n",
    "        mode='lines',\n",
    "        name='7-Day Avg Score',\n",
    "        line=dict(color='royalblue', width=3),\n",
    "        hovertemplate='Score: %{y:.2f}<extra></extra>'\n",
    "    ),\n",
    "    row=2, col=1\n",
    ")\n",
    "\n",
    "# Add horizontal line at y=0 for the second subplot\n",
    "fig.add_shape(\n",
    "    type='line',\n",
    "    x0=rolling_score.index.min(),\n",
    "    x1=rolling_score.index.max(),\n",
    "    y0=0, y1=0,\n",
    "    line=dict(color='gray', dash='dash'),\n",
    "    row=2, col=1\n",
    ")\n",
    "\n",
    "# Update layout\n",
    "fig.update_layout(\n",
    "    title='Bitcoin News Sentiment Analysis',\n",
    "    height=800,\n",
    "    hovermode='x unified',\n",
    "    showlegend=True,\n",
    ")\n",
    "\n",
    "fig.update_yaxes(title_text='Percentage', row=1, col=1)\n",
    "fig.update_yaxes(title_text='Sentiment Score', row=2, col=1)\n",
    "\n",
    "fig.show()"
   ]
  },
  {
   "cell_type": "markdown",
   "id": "13be8370",
   "metadata": {},
   "source": [
    "## 6. Examining Headlines by Sentiment\n",
    "\n",
    "Let's look at examples of headlines for each sentiment category."
   ]
  },
  {
   "cell_type": "code",
   "execution_count": 50,
   "id": "0b18ff70",
   "metadata": {},
   "outputs": [
    {
     "name": "stdout",
     "output_type": "stream",
     "text": [
      "\n",
      "Pos Headlines:\n",
      "  • ZA Miner Introduces Passive Crypto Income Opportunities with Flexible Contracts\n",
      "  • Virtune AB (Publ) is launching Virtune Bitcoin Prime ETP on Nasdaq Stockholm\n",
      "  • Bitcoin To Eclipse $200,000 As Economic Volatility Subsides, Says Bitwise CIO Matt Hougan – Here’s the Timeline\n",
      "\n",
      "N Headlines:\n",
      "  • Bitcoin Price Rises Above $104,000 Mark; JPMorgan Says Bitcoin Could Outperform Gold in H2 2025\n",
      "  • Best Crypto Casinos 2025: Top Bitcoin Casino Sites Recommended By NextCasinos\n",
      "  • Don’t hate me because you’re impotent!\n",
      "\n",
      "Neg Headlines:\n",
      "  • Coinbase faces $400M fallout after insider-led phishing attack exposes customer data\n",
      "  • Crafting a god body\n",
      "  • Bitfarms (NASDAQ:BITF) Shares Gap Down After Earnings Miss\n"
     ]
    }
   ],
   "source": [
    "# Display examples of headlines by sentiment\n",
    "for sentiment, label in zip(['Pos', 'N', 'Neg'], ['Positive', 'Neutral', 'Negative']):\n",
    "    headlines = df[df['sentiment'] == sentiment]['headline'].unique()[:3]\n",
    "    print(f\"\\n{sentiment} Headlines:\")\n",
    "    for headline in headlines:\n",
    "        print(f\"  • {headline}\")"
   ]
  },
  {
   "cell_type": "markdown",
   "id": "beeaf2ba",
   "metadata": {},
   "source": [
    "## 7. Customizing for Different Cryptocurrencies\n",
    "\n",
    "One of the strengths of this system is how easy it is to adapt for different cryptocurrencies. Let's demonstrate how to customize it for Ethereum."
   ]
  },
  {
   "cell_type": "code",
   "execution_count": 51,
   "id": "22946ff6",
   "metadata": {},
   "outputs": [
    {
     "name": "stdout",
     "output_type": "stream",
     "text": [
      "Fetching and analyzing Ethereum news...\n",
      "In a real implementation, you would modify the API query from 'Bitcoin' to 'Ethereum'\n",
      "This would call: process_news_articles(config, page_size=30, days_back=14, query='Ethereum')\n"
     ]
    }
   ],
   "source": [
    "def analyze_crypto_sentiment(crypto=\"Bitcoin\", days_back=30, page_size=30, demo=DEMO_MODE):\n",
    "    \"\"\"Analyze news sentiment for different cryptocurrencies\"\"\"\n",
    "    if not demo:\n",
    "        # In a real implementation, you would modify the search query in fetch_bitcoin_news\n",
    "        # Here's a simplified example (would need to be adjusted for the actual implementation)\n",
    "        try:\n",
    "            from bitcoin_utils import Config, process_news_articles\n",
    "            \n",
    "            config = Config.load()\n",
    "            \n",
    "            # This is a placeholder for how you might modify the function in a real implementation\n",
    "            # In a complete implementation, you would modify the fetch_bitcoin_news function\n",
    "            # to accept a query parameter or modify the process_news_articles function\n",
    "            print(f\"Fetching and analyzing {crypto} news...\")\n",
    "            print(f\"In a real implementation, you would modify the API query from 'Bitcoin' to '{crypto}'\")\n",
    "            \n",
    "            # Placeholder for actual API call\n",
    "            print(f\"This would call: process_news_articles(config, page_size={page_size}, days_back={days_back}, query='{crypto}')\")\n",
    "            \n",
    "        except ImportError:\n",
    "            print(\"Could not import bitcoin_utils. Using demo data instead.\")\n",
    "            demo = True\n",
    "    \n",
    "    if demo:\n",
    "        # Create sample data for the specified crypto\n",
    "        print(f\"Creating sample data for {crypto}\")\n",
    "        sample_df = create_sample_data(days=days_back, ticker=crypto)\n",
    "        \n",
    "        # Save to CSV with crypto name\n",
    "        crypto_lower = crypto.lower()\n",
    "        csv_path = data_dir / f\"{crypto_lower}_sentiment_results.csv\"\n",
    "        sample_df.to_csv(csv_path, index=False)\n",
    "        print(f\"Sample {crypto} data saved to {csv_path}\")\n",
    "        \n",
    "        return sample_df\n",
    "    \n",
    "    return None  # In a real implementation, this would return the analyzed data\n",
    "\n",
    "# Demo for Ethereum\n",
    "ethereum_df = analyze_crypto_sentiment(\"Ethereum\", days_back=14)\n",
    "\n",
    "if ethereum_df is not None:\n",
    "    # Quick visualization of Ethereum sentiment\n",
    "    eth_sentiment_counts = ethereum_df['sentiment'].value_counts()\n",
    "    \n",
    "    # Create pie chart\n",
    "    labels = eth_sentiment_counts.index\n",
    "    values = eth_sentiment_counts.values\n",
    "# This part is already robust, but you may want to display full words in the pie chart legend:\n",
    "    label_map = {'Pos': 'Positive', 'Neg': 'Negative', 'N': 'Neutral'}\n",
    "    display_labels = [label_map.get(x, x) for x in labels]\n",
    "    colors = ['green' if x in ['Pos'] else 'red' if x in ['Neg'] else 'gray' for x in labels]\n",
    "\n",
    "    fig = go.Figure(data=[go.Pie(labels=display_labels, values=values, hole=.3, marker_colors=colors)])\n",
    "    fig.update_layout(title_text=f\"Ethereum News Sentiment Distribution\")\n",
    "    fig.show()\n",
    "\n",
    "# Show example headlines\n",
    "    for sentiment, label in zip(['Pos', 'N', 'Neg'], ['Positive', 'Neutral', 'Negative']):\n",
    "        headlines = ethereum_df[ethereum_df['sentiment'] == sentiment]['headline'].unique()[:2]\n",
    "        print(f\"\\n{label} Headlines:\")\n",
    "        for headline in headlines:\n",
    "            print(f\"  • {headline}\")"
   ]
  },
  {
   "cell_type": "markdown",
   "metadata": {},
   "source": [
    "## 8. Conclusion\n",
    "\n",
    "This notebook demonstrated a complete workflow for Bitcoin news sentiment analysis:\n",
    "\n",
    "1. Setting up the environment and configuration\n",
    "2. Fetching and analyzing news articles\n",
    "3. Loading results from CSV\n",
    "4. Creating visualizations of sentiment over time\n",
    "5. Customizing the analysis for different cryptocurrencies\n",
    "\n",
    "The modular design of the system makes it easy to:\n",
    "- Schedule regular sentiment analysis updates\n",
    "- Customize for different crypto assets\n",
    "- Visualize the results in various formats\n",
    "- Integrate with trading strategies or dashboards\n",
    "\n",
    "For production use, you would typically set up this system to run on a schedule and feed into a dashboard or trading algorithm."
   ]
  }
 ],
 "metadata": {
  "kernelspec": {
   "display_name": "llm_new",
   "language": "python",
   "name": "python3"
  },
  "language_info": {
   "codemirror_mode": {
    "name": "ipython",
    "version": 3
   },
   "file_extension": ".py",
   "mimetype": "text/x-python",
   "name": "python",
   "nbconvert_exporter": "python",
   "pygments_lexer": "ipython3",
   "version": "3.10.16"
  }
 },
 "nbformat": 4,
 "nbformat_minor": 5
}
